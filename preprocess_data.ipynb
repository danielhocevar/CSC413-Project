{
 "cells": [
  {
   "cell_type": "code",
   "execution_count": 13,
   "metadata": {},
   "outputs": [
    {
     "data": {
      "text/plain": [
       "{'0': 'pass',\n",
       " '1': 'cross',\n",
       " '2': 'throw_in',\n",
       " '3': 'freekick_crossed',\n",
       " '4': 'freekick_short',\n",
       " '5': 'corner_crossed',\n",
       " '6': 'corner_short',\n",
       " '7': 'take_on',\n",
       " '8': 'foul',\n",
       " '9': 'tackle',\n",
       " '10': 'interception',\n",
       " '11': 'shot',\n",
       " '12': 'shot_penalty',\n",
       " '13': 'shot_freekick',\n",
       " '14': 'keeper_save',\n",
       " '15': 'keeper_claim',\n",
       " '16': 'keeper_punch',\n",
       " '17': 'keeper_pick_up',\n",
       " '18': 'clearance',\n",
       " '19': 'bad_touch',\n",
       " '20': 'non_action',\n",
       " '21': 'dribble',\n",
       " '22': 'goalkick',\n",
       " '23': 'receival',\n",
       " '24': 'interception',\n",
       " '25': 'out',\n",
       " '26': 'offside',\n",
       " '27': 'goal',\n",
       " '28': 'owngoal',\n",
       " '29': 'yellow_card',\n",
       " '30': 'red_card',\n",
       " '31': 'corner',\n",
       " '32': 'freekick'}"
      ]
     },
     "execution_count": 13,
     "metadata": {},
     "output_type": "execute_result"
    }
   ],
   "source": [
    "import json\n",
    "import torch\n",
    "with open('action_types.json', 'r') as f:\n",
    "    action_types = json.load(f)\n",
    "action_types"
   ]
  },
  {
   "cell_type": "code",
   "execution_count": 3,
   "metadata": {},
   "outputs": [
    {
     "data": {
      "text/plain": [
       "652"
      ]
     },
     "execution_count": 3,
     "metadata": {},
     "output_type": "execute_result"
    }
   ],
   "source": [
    "import pandas as pd\n",
    "\n",
    "df = pd.read_csv(\"WSL_actions.csv\", index_col = 0)\n",
    "\n",
    "grouped = df.groupby(['game_id', 'period_id'])\n",
    "len(grouped)"
   ]
  },
  {
   "cell_type": "code",
   "execution_count": 16,
   "metadata": {},
   "outputs": [],
   "source": [
    "from preprocess_data import *\n",
    "\n",
    "Xs = []\n",
    "ys = []\n",
    "for name, group in list(grouped):\n",
    "    # print(f\"Processing {len(group):>4} actions from game_id {name[0]: >5} half {name[1]}...\")\n",
    "    \n",
    "    tokens = (\n",
    "        group\n",
    "        .pipe(add_coordinate_bins, n_bins_x = 10, n_bins_y = 10)\n",
    "        .pipe(add_team_as_dummy)\n",
    "        .pipe(get_action_type_names, action_types)\n",
    "        .pipe(get_action_tokens)\n",
    "        ['action_token'].values\n",
    "    )\n",
    "\n",
    "    X, y = sequence_to_sliding_window(tokens, n_prev_actions = 5)\n",
    "\n",
    "    Xs.append(X)\n",
    "    ys.append(y)"
   ]
  },
  {
   "cell_type": "code",
   "execution_count": 11,
   "metadata": {},
   "outputs": [
    {
     "data": {
      "text/plain": [
       "((936660, 5), (936660,))"
      ]
     },
     "execution_count": 11,
     "metadata": {},
     "output_type": "execute_result"
    }
   ],
   "source": [
    "X = np.concatenate(Xs)\n",
    "y = np.concatenate(ys)\n",
    "X.shape, y.shape"
   ]
  },
  {
   "cell_type": "code",
   "execution_count": 14,
   "metadata": {},
   "outputs": [],
   "source": [
    "torch.save(X, 'X.pt')\n",
    "torch.save(y, 'y.pt')"
   ]
  },
  {
   "cell_type": "code",
   "execution_count": null,
   "metadata": {},
   "outputs": [],
   "source": []
  }
 ],
 "metadata": {
  "kernelspec": {
   "display_name": "Python 3",
   "language": "python",
   "name": "python3"
  },
  "language_info": {
   "codemirror_mode": {
    "name": "ipython",
    "version": 3
   },
   "file_extension": ".py",
   "mimetype": "text/x-python",
   "name": "python",
   "nbconvert_exporter": "python",
   "pygments_lexer": "ipython3",
   "version": "3.9.6"
  }
 },
 "nbformat": 4,
 "nbformat_minor": 2
}
