{
 "cells": [
  {
   "cell_type": "code",
   "execution_count": 2,
   "metadata": {},
   "outputs": [],
   "source": [
    "import math\n",
    "import torch\n",
    "import torch.nn as nn\n",
    "import torch.nn.functional as F\n",
    "\n",
    "from models import BasicTransformer"
   ]
  },
  {
   "cell_type": "markdown",
   "metadata": {},
   "source": [
    "## Data Preparation"
   ]
  },
  {
   "cell_type": "code",
   "execution_count": 3,
   "metadata": {},
   "outputs": [],
   "source": [
    "x = torch.load('X.pt')\n",
    "y = torch.load('y.pt')\n",
    "\n",
    "# Create a set of all possible play descriptors\n",
    "play_descriptors = set()\n",
    "for s in x.flatten():\n",
    "    play_descriptors.add(s)\n",
    "for s in y.flatten():\n",
    "    play_descriptors.add(s)\n",
    "\n",
    "# Assign each play descriptor a unique token\n",
    "play_to_tok = {s: i for i, s in enumerate(play_descriptors)}\n",
    "num_token_types = len(play_descriptors)\n",
    "\n",
    "# Convert x and y to their token representations\n",
    "x_tok = torch.zeros(x.shape, dtype=torch.long)\n",
    "y_tok = torch.zeros(y.shape, dtype=torch.long)\n",
    "\n",
    "for i in range(x.shape[0]):\n",
    "    for j in range(x.shape[1]):\n",
    "        x_tok[i, j] = play_to_tok[x[i, j]]\n",
    "\n",
    "for i in range(y.shape[0]):\n",
    "    for j in range(y.shape[1]):\n",
    "        y_tok[i, j] = play_to_tok[y[i, j]]\n",
    "\n"
   ]
  },
  {
   "cell_type": "code",
   "execution_count": 5,
   "metadata": {},
   "outputs": [],
   "source": [
    "# Split into train and test\n",
    "train_examples = math.floor(len(x) * 0.8)\n",
    "\n",
    "# Train on only one example for now\n",
    "x_train = x_tok[:train_examples][:8000]\n",
    "y_train = y_tok[:train_examples][:8000]\n",
    "\n",
    "x_test = x_tok[train_examples:][:2000]\n",
    "y_test = y_tok[train_examples:][:2000]\n",
    "\n",
    "train_loader = torch.utils.data.DataLoader(\n",
    "    list(zip(x_train, y_train)),\n",
    "    batch_size=32,\n",
    "    shuffle=True\n",
    ")\n",
    "\n",
    "val_loader = torch.utils.data.DataLoader(\n",
    "    list(zip(x_test, y_test)),\n",
    "    batch_size=32,\n",
    "    shuffle=True\n",
    ")\n"
   ]
  },
  {
   "cell_type": "code",
   "execution_count": 6,
   "metadata": {},
   "outputs": [],
   "source": [
    "def accuracy(preds, labels):\n",
    "    return sum(preds[:, -1].argmax(dim=1) == labels[:, -1].argmax(dim=1)) / len(preds)"
   ]
  },
  {
   "cell_type": "markdown",
   "metadata": {},
   "source": [
    "## Training Loop"
   ]
  },
  {
   "cell_type": "code",
   "execution_count": 10,
   "metadata": {},
   "outputs": [],
   "source": [
    "def train(model, n_epochs=10):\n",
    "    criterion = nn.CrossEntropyLoss()\n",
    "    optimizer = torch.optim.Adam(model.parameters(), lr=0.001)\n",
    "    for epoch in range(n_epochs):\n",
    "        model.train()\n",
    "        i = 0\n",
    "        train_loss = 0\n",
    "        train_acc = 0\n",
    "        for x_bat, y_bat in iter(train_loader):\n",
    "            x_bat.permute(1, 0)\n",
    "            y_bat = F.one_hot(y_bat, num_classes=num_token_types).float()\n",
    "            optimizer.zero_grad()\n",
    "            y_pred = model(x_bat)\n",
    "            loss = criterion(y_pred, y_bat)\n",
    "            loss.backward()\n",
    "            train_loss += loss.item()\n",
    "            optimizer.step()\n",
    "            i += 1\n",
    "            train_acc += accuracy(y_pred, y_bat)\n",
    "        \n",
    "            # print(f'Epoch {epoch}, iter {i}, loss: {loss.item()}')\n",
    "        train_acc = train_acc / len(train_loader)\n",
    "\n",
    "        val_loss = 0\n",
    "        val_acc = 0\n",
    "        for x_val, y_val in iter(val_loader):\n",
    "            y_pred = model(x_val)\n",
    "            y_val = F.one_hot(y_val, num_classes=num_token_types).float()\n",
    "            loss = criterion(y_pred, y_val)\n",
    "            val_loss += loss.item()\n",
    "            val_acc += accuracy(y_pred, y_val)\n",
    "        \n",
    "        val_acc = val_acc / len(val_loader)\n",
    "        print(f'Epoch {epoch}, iter {i}, train_loss: {train_loss}, train_acc: {train_acc}, val_loss: {val_loss}, val_acc: {val_acc}')"
   ]
  },
  {
   "cell_type": "code",
   "execution_count": 8,
   "metadata": {},
   "outputs": [
    {
     "name": "stderr",
     "output_type": "stream",
     "text": [
      "/Users/danielhocevar/miniconda3/envs/csc413/lib/python3.8/site-packages/torch/nn/modules/transformer.py:286: UserWarning: enable_nested_tensor is True, but self.use_nested_tensor is False because encoder_layer.self_attn.batch_first was not True(use batch_first for better inference performance)\n",
      "  warnings.warn(f\"enable_nested_tensor is True, but self.use_nested_tensor is False because {why_not_sparsity_fast_path}\")\n"
     ]
    }
   ],
   "source": [
    "model = BasicTransformer(num_token_types, 128, 128, 2, 2, 0.1)"
   ]
  },
  {
   "cell_type": "code",
   "execution_count": 11,
   "metadata": {},
   "outputs": [],
   "source": [
    "train(model)"
   ]
  },
  {
   "cell_type": "code",
   "execution_count": null,
   "metadata": {},
   "outputs": [],
   "source": []
  },
  {
   "cell_type": "code",
   "execution_count": null,
   "metadata": {},
   "outputs": [],
   "source": []
  }
 ],
 "metadata": {
  "kernelspec": {
   "display_name": "csc413",
   "language": "python",
   "name": "python3"
  },
  "language_info": {
   "codemirror_mode": {
    "name": "ipython",
    "version": 3
   },
   "file_extension": ".py",
   "mimetype": "text/x-python",
   "name": "python",
   "nbconvert_exporter": "python",
   "pygments_lexer": "ipython3",
   "version": "3.8.18"
  }
 },
 "nbformat": 4,
 "nbformat_minor": 2
}
