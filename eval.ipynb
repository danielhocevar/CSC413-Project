{
  "cells": [
    {
      "cell_type": "markdown",
      "metadata": {
        "id": "fwNr-RxwoxUZ"
      },
      "source": [
        "## Data Preparation"
      ]
    },
    {
      "cell_type": "code",
      "execution_count": 1,
      "metadata": {},
      "outputs": [
        {
          "data": {
            "text/plain": [
              "array([ 55, 363, 406, 428, 402], dtype=int64)"
            ]
          },
          "execution_count": 1,
          "metadata": {},
          "output_type": "execute_result"
        }
      ],
      "source": [
        "import json\n",
        "with open('action_types.json', 'r') as f:\n",
        "    action_types = json.load(f)\n",
        "\n",
        "import pandas as pd\n",
        "from preprocess_data import *\n",
        "df = (\n",
        "    pd.read_csv(\"WSL_actions.csv\", index_col = 0)\n",
        "    .pipe(add_coordinate_bins, n_bins_x = 10, n_bins_y = 10)\n",
        "    .pipe(add_team_as_dummy)\n",
        "    .pipe(get_action_type_names, action_types)\n",
        "    .pipe(get_action_tokens)\n",
        "    .assign(\n",
        "        group_id = lambda d: d.groupby(['game_id', 'period_id']).ngroup(),\n",
        "        action_token = lambda d: pd.Categorical(d.action_token)\n",
        "    )\n",
        "    [['group_id', 'action_token']]\n",
        ")\n",
        "\n",
        "vocab = df['action_token'].cat.categories\n",
        "\n",
        "from numpy.random import choice, seed\n",
        "seed(42)\n",
        "train_groups = choice(df['group_id'].unique(), int(0.8 * df['group_id'].nunique()), replace = False)\n",
        "val_groups = choice(train_groups, int(0.8 * len(train_groups)), replace = False)\n",
        "train_groups[:5]"
      ]
    },
    {
      "cell_type": "code",
      "execution_count": 2,
      "metadata": {},
      "outputs": [],
      "source": [
        "train_df = df.query(\"group_id.isin(@train_groups) and ~group_id.isin(@val_groups)\")\n",
        "val_df = df.query(\"group_id.isin(@val_groups)\")\n",
        "\n",
        "X_train = np.lib.stride_tricks.sliding_window_view(train_df['action_token'].map(list(vocab).index), (3,))[:-1]\n",
        "y_train = np.lib.stride_tricks.sliding_window_view(train_df['action_token'].map(list(vocab).index), (3,))[1:]\n",
        "\n",
        "X_val = np.lib.stride_tricks.sliding_window_view(val_df['action_token'].map(list(vocab).index), (3,))[:-1]\n",
        "y_val = np.lib.stride_tricks.sliding_window_view(val_df['action_token'].map(list(vocab).index), (3,))[1:]"
      ]
    },
    {
      "cell_type": "markdown",
      "metadata": {},
      "source": [
        "## Prepare Model"
      ]
    },
    {
      "cell_type": "code",
      "execution_count": 3,
      "metadata": {
        "id": "C2wm6tB8oxUY"
      },
      "outputs": [
        {
          "data": {
            "text/plain": [
              "BasicTransformer(\n",
              "  (encoder): TransformerEncoder(\n",
              "    (layers): ModuleList(\n",
              "      (0-1): 2 x TransformerEncoderLayer(\n",
              "        (self_attn): MultiheadAttention(\n",
              "          (out_proj): NonDynamicallyQuantizableLinear(in_features=128, out_features=128, bias=True)\n",
              "        )\n",
              "        (linear1): Linear(in_features=128, out_features=2, bias=True)\n",
              "        (dropout): Dropout(p=0.1, inplace=False)\n",
              "        (linear2): Linear(in_features=2, out_features=128, bias=True)\n",
              "        (norm1): LayerNorm((128,), eps=1e-05, elementwise_affine=True)\n",
              "        (norm2): LayerNorm((128,), eps=1e-05, elementwise_affine=True)\n",
              "        (dropout1): Dropout(p=0.1, inplace=False)\n",
              "        (dropout2): Dropout(p=0.1, inplace=False)\n",
              "      )\n",
              "    )\n",
              "    (norm): LayerNorm((128,), eps=1e-05, elementwise_affine=True)\n",
              "  )\n",
              "  (decoder): Linear(in_features=128, out_features=2856, bias=True)\n",
              "  (pos_encoder): PositionalEncoding(\n",
              "    (dropout): Dropout(p=0.1, inplace=False)\n",
              "  )\n",
              "  (input_emb): Embedding(2856, 128)\n",
              ")"
            ]
          },
          "execution_count": 3,
          "metadata": {},
          "output_type": "execute_result"
        }
      ],
      "source": [
        "import torch\n",
        "from models import BasicTransformer\n",
        "\n",
        "if torch.cuda.is_available():\n",
        "    device = torch.device(\"cuda\")\n",
        "else:\n",
        "    device = torch.device(\"cpu\")\n",
        "\n",
        "model = BasicTransformer(len(vocab), 128, 128, 2, 2, 0.1).to(device=device)\n",
        "model.load_state_dict(torch.load(\"transformer_weights.pkl\", map_location=torch.device('cpu')))\n",
        "model.eval()"
      ]
    },
    {
      "cell_type": "markdown",
      "metadata": {
        "id": "aQRpriQLQp4x"
      },
      "source": [
        "## Model Evaluation"
      ]
    },
    {
      "cell_type": "code",
      "execution_count": 4,
      "metadata": {
        "colab": {
          "base_uri": "https://localhost:8080/"
        },
        "id": "tAcWaOWnVLWB",
        "outputId": "7420db1b-312f-420b-88d6-ebd51a2adc89"
      },
      "outputs": [
        {
          "name": "stdout",
          "output_type": "stream",
          "text": [
            "Requirement already satisfied: matplotsoccer in c:\\users\\ethan\\appdata\\local\\programs\\python\\python311\\lib\\site-packages (0.0.8)\n"
          ]
        },
        {
          "name": "stderr",
          "output_type": "stream",
          "text": [
            "\n",
            "[notice] A new release of pip is available: 23.2.1 -> 24.0\n",
            "[notice] To update, run: python.exe -m pip install --upgrade pip\n"
          ]
        }
      ],
      "source": [
        "!pip install matplotsoccer"
      ]
    },
    {
      "cell_type": "code",
      "execution_count": 5,
      "metadata": {
        "id": "2-BlCC9barNQ"
      },
      "outputs": [],
      "source": [
        "import matplotsoccer as pltsoc"
      ]
    },
    {
      "cell_type": "code",
      "execution_count": 6,
      "metadata": {},
      "outputs": [],
      "source": [
        "def x_bin_to_coords(bin):\n",
        "    return (float(bin) + 0.5) * 10.5\n",
        "\n",
        "def y_bin_to_coords(bin):\n",
        "    return (float(bin) + 0.5) * 6.8\n",
        "\n",
        "def plot_action_sequence(tokens):\n",
        "    team = [\"home\" if t.split(',')[0] == \"True\" else \"away\" for t in tokens]\n",
        "    action = [t.split(',')[1] for t in tokens]\n",
        "    x_coord = [x_bin_to_coords(t.split(',')[2]) for t in tokens]\n",
        "    y_coord = [y_bin_to_coords(t.split(',')[3]) for t in tokens]\n",
        "    coords = list(zip(x_coord, y_coord))\n",
        "    \n",
        "    pltsoc.actions(\n",
        "        coords,\n",
        "        team = team,\n",
        "        action_type = action,\n",
        "        label = [[team[i], action[i]] for i in range(len(team))],\n",
        "        labeltitle=[\"team\",\"action type\"]\n",
        "    )"
      ]
    },
    {
      "cell_type": "code",
      "execution_count": 7,
      "metadata": {
        "colab": {
          "base_uri": "https://localhost:8080/",
          "height": 406
        },
        "id": "g_-SDvU6VURj",
        "outputId": "4808589d-6148-4b39-a138-7f80df105a5e"
      },
      "outputs": [
        {
          "name": "stderr",
          "output_type": "stream",
          "text": [
            "C:\\Users\\ethan\\AppData\\Local\\Temp\\ipykernel_35516\\2204606361.py:4: UserWarning: The given NumPy array is not writable, and PyTorch does not support non-writable tensors. This means writing to this tensor will result in undefined behavior. You may want to copy the array to protect its data or make it writable before converting it to a tensor. This type of warning will be suppressed for the rest of this program. (Triggered internally at ..\\torch\\csrc\\utils\\tensor_numpy.cpp:212.)\n",
            "  output = model(torch.from_numpy(X_train[pid])).argmax(dim=-1)\n"
          ]
        },
        {
          "data": {
            "image/png": "[encoded data removed]",
            "text/plain": [
              "<Figure size 640x480 with 1 Axes>"
            ]
          },
          "metadata": {},
          "output_type": "display_data"
        }
      ],
      "source": [
        "pid = 200\n",
        "\n",
        "model.eval()\n",
        "output = model(torch.from_numpy(X_train[pid])).argmax(dim=-1)\n",
        "play = output[0,-1].item()\n",
        "sequence = list(X_train[pid]) + [play]\n",
        "plot_action_sequence([vocab[i] for i in sequence])\n"
      ]
    }
  ],
  "metadata": {
    "colab": {
      "provenance": []
    },
    "kernelspec": {
      "display_name": "Python 3",
      "name": "python3"
    },
    "language_info": {
      "codemirror_mode": {
        "name": "ipython",
        "version": 3
      },
      "file_extension": ".py",
      "mimetype": "text/x-python",
      "name": "python",
      "nbconvert_exporter": "python",
      "pygments_lexer": "ipython3",
      "version": "3.11.5"
    }
  },
  "nbformat": 4,
  "nbformat_minor": 0
}
