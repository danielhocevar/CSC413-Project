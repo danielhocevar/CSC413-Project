{
  "cells": [
    {
      "cell_type": "markdown",
      "metadata": {
        "id": "fwNr-RxwoxUZ"
      },
      "source": [
        "## Data Preparation"
      ]
    },
    {
      "cell_type": "code",
      "execution_count": 2,
      "metadata": {},
      "outputs": [
        {
          "data": {
            "text/plain": [
              "array([ 55, 363, 406, 428, 402], dtype=int64)"
            ]
          },
          "execution_count": 2,
          "metadata": {},
          "output_type": "execute_result"
        }
      ],
      "source": [
        "import json\n",
        "with open('action_types.json', 'r') as f:\n",
        "    action_types = json.load(f)\n",
        "\n",
        "import pandas as pd\n",
        "from preprocess_data import *\n",
        "df = (\n",
        "    pd.read_csv(\"WSL_actions.csv\", index_col = 0)\n",
        "    .pipe(add_coordinate_bins, n_bins_x = 10, n_bins_y = 10)\n",
        "    .pipe(add_team_as_dummy)\n",
        "    .pipe(get_action_type_names, action_types)\n",
        "    .pipe(get_action_tokens)\n",
        "    .assign(\n",
        "        group_id = lambda d: d.groupby(['game_id', 'period_id']).ngroup(),\n",
        "        action_token = lambda d: pd.Categorical(d.action_token)\n",
        "    )\n",
        "    [['group_id', 'action_token']]\n",
        ")\n",
        "\n",
        "vocab = df['action_token'].cat.categories\n",
        "\n",
        "from numpy.random import choice, seed\n",
        "seed(42)\n",
        "train_groups = choice(df['group_id'].unique(), int(0.8 * df['group_id'].nunique()), replace = False)\n",
        "val_groups = choice(train_groups, int(0.8 * len(train_groups)), replace = False)\n",
        "train_groups[:5]"
      ]
    },
    {
      "cell_type": "code",
      "execution_count": 3,
      "metadata": {},
      "outputs": [],
      "source": [
        "train_df = df.query(\"group_id.isin(@train_groups) and ~group_id.isin(@val_groups)\")\n",
        "val_df = df.query(\"group_id.isin(@val_groups)\")\n",
        "\n",
        "X_train = np.lib.stride_tricks.sliding_window_view(train_df['action_token'].map(list(vocab).index), (3,))[:-1]\n",
        "y_train = np.lib.stride_tricks.sliding_window_view(train_df['action_token'].map(list(vocab).index), (3,))[1:]\n",
        "\n",
        "X_val = np.lib.stride_tricks.sliding_window_view(val_df['action_token'].map(list(vocab).index), (3,))[:-1]\n",
        "y_val = np.lib.stride_tricks.sliding_window_view(val_df['action_token'].map(list(vocab).index), (3,))[1:]"
      ]
    },
    {
      "cell_type": "markdown",
      "metadata": {},
      "source": [
        "## Prepare Model"
      ]
    },
    {
      "cell_type": "code",
      "execution_count": 6,
      "metadata": {
        "id": "C2wm6tB8oxUY"
      },
      "outputs": [
        {
          "data": {
            "text/plain": [
              "BasicTransformer(\n",
              "  (encoder): TransformerEncoder(\n",
              "    (layers): ModuleList(\n",
              "      (0-1): 2 x TransformerEncoderLayer(\n",
              "        (self_attn): MultiheadAttention(\n",
              "          (out_proj): NonDynamicallyQuantizableLinear(in_features=128, out_features=128, bias=True)\n",
              "        )\n",
              "        (linear1): Linear(in_features=128, out_features=2, bias=True)\n",
              "        (dropout): Dropout(p=0.1, inplace=False)\n",
              "        (linear2): Linear(in_features=2, out_features=128, bias=True)\n",
              "        (norm1): LayerNorm((128,), eps=1e-05, elementwise_affine=True)\n",
              "        (norm2): LayerNorm((128,), eps=1e-05, elementwise_affine=True)\n",
              "        (dropout1): Dropout(p=0.1, inplace=False)\n",
              "        (dropout2): Dropout(p=0.1, inplace=False)\n",
              "      )\n",
              "    )\n",
              "    (norm): LayerNorm((128,), eps=1e-05, elementwise_affine=True)\n",
              "  )\n",
              "  (decoder): Linear(in_features=128, out_features=2856, bias=True)\n",
              "  (pos_encoder): PositionalEncoding(\n",
              "    (dropout): Dropout(p=0.1, inplace=False)\n",
              "  )\n",
              "  (input_emb): Embedding(2856, 128)\n",
              ")"
            ]
          },
          "execution_count": 6,
          "metadata": {},
          "output_type": "execute_result"
        }
      ],
      "source": [
        "import torch\n",
        "from models import BasicTransformer\n",
        "\n",
        "if torch.cuda.is_available():\n",
        "    device = torch.device(\"cuda\")\n",
        "else:\n",
        "    device = torch.device(\"cpu\")\n",
        "\n",
        "model = BasicTransformer(len(vocab), 128, 128, 2, 2, 0.1).to(device=device)\n",
        "model.load_state_dict(torch.load(\"transformer_weights.pkl\", map_location=torch.device('cpu')))\n",
        "model.eval()"
      ]
    },
    {
      "cell_type": "markdown",
      "metadata": {
        "id": "aQRpriQLQp4x"
      },
      "source": [
        "## Model Evaluation"
      ]
    },
    {
      "cell_type": "code",
      "execution_count": 4,
      "metadata": {
        "colab": {
          "base_uri": "https://localhost:8080/"
        },
        "id": "tAcWaOWnVLWB",
        "outputId": "7420db1b-312f-420b-88d6-ebd51a2adc89"
      },
      "outputs": [
        {
          "name": "stdout",
          "output_type": "stream",
          "text": [
            "Collecting matplotsoccer\n",
            "  Downloading matplotsoccer-0.0.8.tar.gz (5.6 kB)\n",
            "  Preparing metadata (setup.py): started\n",
            "  Preparing metadata (setup.py): finished with status 'done'\n",
            "Building wheels for collected packages: matplotsoccer\n",
            "  Building wheel for matplotsoccer (setup.py): started\n",
            "  Building wheel for matplotsoccer (setup.py): finished with status 'done'\n",
            "  Created wheel for matplotsoccer: filename=matplotsoccer-0.0.8-py3-none-any.whl size=5986 sha256=daed9304e0159fc774b2f43d7ac194759e81c7b5ca88615b1170f112c2e52697\n",
            "  Stored in directory: c:\\users\\ethan\\appdata\\local\\pip\\cache\\wheels\\5f\\96\\51\\a91e3de14cbbb035d664ca08bf412678bda3e5c7864f9ba66d\n",
            "Successfully built matplotsoccer\n",
            "Installing collected packages: matplotsoccer\n",
            "Successfully installed matplotsoccer-0.0.8\n"
          ]
        },
        {
          "name": "stderr",
          "output_type": "stream",
          "text": [
            "\n",
            "[notice] A new release of pip is available: 23.2.1 -> 24.0\n",
            "[notice] To update, run: python.exe -m pip install --upgrade pip\n"
          ]
        }
      ],
      "source": [
        "!pip install matplotsoccer"
      ]
    },
    {
      "cell_type": "code",
      "execution_count": 35,
      "metadata": {
        "id": "2-BlCC9barNQ"
      },
      "outputs": [],
      "source": [
        "import matplotsoccer as pltsoc"
      ]
    },
    {
      "cell_type": "code",
      "execution_count": 37,
      "metadata": {
        "colab": {
          "base_uri": "https://localhost:8080/",
          "height": 406
        },
        "id": "g_-SDvU6VURj",
        "outputId": "4808589d-6148-4b39-a138-7f80df105a5e"
      },
      "outputs": [
        {
          "data": {
            "image/png": "[encoded data removed]",
            "text/plain": [
              "<Figure size 640x480 with 1 Axes>"
            ]
          },
          "metadata": {},
          "output_type": "display_data"
        }
      ],
      "source": [
        "pred = True\n",
        "pid = 200\n",
        "\n",
        "loc = []\n",
        "act = []\n",
        "team = []\n",
        "\n",
        "for i in range(X_train.shape[1]):\n",
        "  splt = vocab[X_train[pid,i]].split(',')\n",
        "\n",
        "  if splt[0] == \"True\":\n",
        "    team.append(\"home\")\n",
        "  else:\n",
        "    team.append(\"away\")\n",
        "\n",
        "  act.append(splt[1])\n",
        "\n",
        "  locx = (float(splt[2]) + 0.5) * 10.5\n",
        "  locy = (float(splt[3]) + 0.5) * 6.8\n",
        "\n",
        "  loc.append([locx,locy])\n",
        "\n",
        "if not pred:\n",
        "  splt = y[pid,-1].split(',')\n",
        "\n",
        "  if splt[0] == \"True\":\n",
        "    team.append(\"home\")\n",
        "  else:\n",
        "    team.append(\"away\")\n",
        "\n",
        "  act.append(splt[1])\n",
        "\n",
        "  locx = (float(splt[2]) + 0.5) * 10.5\n",
        "  locy = (float(splt[3]) + 0.5) * 6.8\n",
        "\n",
        "  loc.append([locx,locy])\n",
        "\n",
        "else:\n",
        "  model.eval()\n",
        "  input = X_train[pid:pid+1]\n",
        "  output = model(torch.from_numpy(input)).argmax(dim=-1)\n",
        "  play = vocab[output[0,-1].item()]\n",
        "\n",
        "  splt = play.split(',')\n",
        "\n",
        "  if splt[0] == \"True\":\n",
        "    team.append(\"home\")\n",
        "  else:\n",
        "    team.append(\"away\")\n",
        "\n",
        "  act.append(splt[1])\n",
        "\n",
        "  locx = (float(splt[2]) + 0.5) * 10.5\n",
        "  locy = (float(splt[3]) + 0.5) * 6.8\n",
        "\n",
        "  loc.append([locx,locy])\n",
        "\n",
        "\n",
        "pltsoc.actions(loc,\n",
        "               team=team,\n",
        "               action_type=act,\n",
        "               label=[[team[i],act[i]] for i in range(len(team))],\n",
        "               labeltitle=[\"team\",\"action type\"])\n"
      ]
    }
  ],
  "metadata": {
    "colab": {
      "provenance": []
    },
    "kernelspec": {
      "display_name": "Python 3",
      "name": "python3"
    },
    "language_info": {
      "codemirror_mode": {
        "name": "ipython",
        "version": 3
      },
      "file_extension": ".py",
      "mimetype": "text/x-python",
      "name": "python",
      "nbconvert_exporter": "python",
      "pygments_lexer": "ipython3",
      "version": "3.11.5"
    }
  },
  "nbformat": 4,
  "nbformat_minor": 0
}
