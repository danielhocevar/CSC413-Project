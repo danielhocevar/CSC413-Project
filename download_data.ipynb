{
  "cells": [
    {
      "cell_type": "markdown",
      "metadata": {
        "id": "CzN-635RkXAw"
      },
      "source": [
        "**Disclaimer**: this notebook's compatibility with StatsBomb event data 4.0.0 was last checked on December 30th, 2023."
      ]
    },
    {
      "cell_type": "code",
      "execution_count": 1,
      "metadata": {
        "colab": {
          "base_uri": "https://localhost:8080/"
        },
        "id": "tfMMTA7BkibG",
        "outputId": "8981e21d-a447-4302-88ba-259bbdc73448"
      },
      "outputs": [
        {
          "name": "stdout",
          "output_type": "stream",
          "text": [
            "Collecting socceraction\n",
            "  Downloading socceraction-1.5.1-py3-none-any.whl.metadata (6.6 kB)\n",
            "Collecting lxml<5.0.0,>=4.9.3 (from socceraction)\n",
            "  Using cached lxml-4.9.4.tar.gz (3.6 MB)\n",
            "  Installing build dependencies ... \u001b[?25ldone\n",
            "\u001b[?25h  Getting requirements to build wheel ... \u001b[?25ldone\n",
            "\u001b[?25h  Installing backend dependencies ... \u001b[?25ldone\n",
            "\u001b[?25h  Preparing metadata (pyproject.toml) ... \u001b[?25ldone\n",
            "\u001b[?25hCollecting numpy<2.0.0,>=1.26.0 (from socceraction)\n",
            "  Downloading numpy-1.26.4-cp39-cp39-macosx_11_0_arm64.whl.metadata (61 kB)\n",
            "\u001b[2K     \u001b[90m━━━━━━━━━━━━━━━━━━━━━━━━━━━━━━━━━━━━━━━━\u001b[0m \u001b[32m61.1/61.1 kB\u001b[0m \u001b[31m2.4 MB/s\u001b[0m eta \u001b[36m0:00:00\u001b[0m\n",
            "\u001b[?25hCollecting pandas<3.0.0,>=2.1.1 (from socceraction)\n",
            "  Downloading pandas-2.2.1-cp39-cp39-macosx_11_0_arm64.whl.metadata (19 kB)\n",
            "Collecting pandera<0.18.0,>=0.17.2 (from socceraction)\n",
            "  Downloading pandera-0.17.2-py3-none-any.whl.metadata (15 kB)\n",
            "Collecting scikit-learn<2.0.0,>=1.3.1 (from socceraction)\n",
            "  Downloading scikit_learn-1.4.1.post1-cp39-cp39-macosx_12_0_arm64.whl.metadata (11 kB)\n",
            "Requirement already satisfied: python-dateutil>=2.8.2 in ./.venv/lib/python3.9/site-packages (from pandas<3.0.0,>=2.1.1->socceraction) (2.9.0.post0)\n",
            "Collecting pytz>=2020.1 (from pandas<3.0.0,>=2.1.1->socceraction)\n",
            "  Using cached pytz-2024.1-py2.py3-none-any.whl.metadata (22 kB)\n",
            "Collecting tzdata>=2022.7 (from pandas<3.0.0,>=2.1.1->socceraction)\n",
            "  Downloading tzdata-2024.1-py2.py3-none-any.whl.metadata (1.4 kB)\n",
            "Collecting multimethod (from pandera<0.18.0,>=0.17.2->socceraction)\n",
            "  Downloading multimethod-1.11.2-py3-none-any.whl.metadata (9.1 kB)\n",
            "Requirement already satisfied: packaging>=20.0 in ./.venv/lib/python3.9/site-packages (from pandera<0.18.0,>=0.17.2->socceraction) (24.0)\n",
            "Collecting pydantic (from pandera<0.18.0,>=0.17.2->socceraction)\n",
            "  Downloading pydantic-2.6.4-py3-none-any.whl.metadata (85 kB)\n",
            "\u001b[2K     \u001b[90m━━━━━━━━━━━━━━━━━━━━━━━━━━━━━━━━━━━━━━━━\u001b[0m \u001b[32m85.1/85.1 kB\u001b[0m \u001b[31m4.7 MB/s\u001b[0m eta \u001b[36m0:00:00\u001b[0m\n",
            "\u001b[?25hCollecting typeguard>=3.0.2 (from pandera<0.18.0,>=0.17.2->socceraction)\n",
            "  Downloading typeguard-4.1.5-py3-none-any.whl.metadata (3.7 kB)\n",
            "Collecting typing-inspect>=0.6.0 (from pandera<0.18.0,>=0.17.2->socceraction)\n",
            "  Using cached typing_inspect-0.9.0-py3-none-any.whl.metadata (1.5 kB)\n",
            "Collecting wrapt (from pandera<0.18.0,>=0.17.2->socceraction)\n",
            "  Downloading wrapt-1.16.0-cp39-cp39-macosx_11_0_arm64.whl.metadata (6.6 kB)\n",
            "Collecting scipy>=1.6.0 (from scikit-learn<2.0.0,>=1.3.1->socceraction)\n",
            "  Downloading scipy-1.12.0-cp39-cp39-macosx_12_0_arm64.whl.metadata (60 kB)\n",
            "\u001b[2K     \u001b[90m━━━━━━━━━━━━━━━━━━━━━━━━━━━━━━━━━━━━━━━━\u001b[0m \u001b[32m60.4/60.4 kB\u001b[0m \u001b[31m4.9 MB/s\u001b[0m eta \u001b[36m0:00:00\u001b[0m\n",
            "\u001b[?25hCollecting joblib>=1.2.0 (from scikit-learn<2.0.0,>=1.3.1->socceraction)\n",
            "  Using cached joblib-1.3.2-py3-none-any.whl.metadata (5.4 kB)\n",
            "Collecting threadpoolctl>=2.0.0 (from scikit-learn<2.0.0,>=1.3.1->socceraction)\n",
            "  Using cached threadpoolctl-3.3.0-py3-none-any.whl.metadata (13 kB)\n",
            "Requirement already satisfied: six>=1.5 in ./.venv/lib/python3.9/site-packages (from python-dateutil>=2.8.2->pandas<3.0.0,>=2.1.1->socceraction) (1.16.0)\n",
            "Requirement already satisfied: importlib-metadata>=3.6 in ./.venv/lib/python3.9/site-packages (from typeguard>=3.0.2->pandera<0.18.0,>=0.17.2->socceraction) (7.0.2)\n",
            "Requirement already satisfied: typing-extensions>=4.7.0 in ./.venv/lib/python3.9/site-packages (from typeguard>=3.0.2->pandera<0.18.0,>=0.17.2->socceraction) (4.10.0)\n",
            "Collecting mypy-extensions>=0.3.0 (from typing-inspect>=0.6.0->pandera<0.18.0,>=0.17.2->socceraction)\n",
            "  Using cached mypy_extensions-1.0.0-py3-none-any.whl.metadata (1.1 kB)\n",
            "Collecting annotated-types>=0.4.0 (from pydantic->pandera<0.18.0,>=0.17.2->socceraction)\n",
            "  Using cached annotated_types-0.6.0-py3-none-any.whl.metadata (12 kB)\n",
            "Collecting pydantic-core==2.16.3 (from pydantic->pandera<0.18.0,>=0.17.2->socceraction)\n",
            "  Downloading pydantic_core-2.16.3-cp39-cp39-macosx_11_0_arm64.whl.metadata (6.5 kB)\n",
            "Requirement already satisfied: zipp>=0.5 in ./.venv/lib/python3.9/site-packages (from importlib-metadata>=3.6->typeguard>=3.0.2->pandera<0.18.0,>=0.17.2->socceraction) (3.18.1)\n",
            "Downloading socceraction-1.5.1-py3-none-any.whl (92 kB)\n",
            "\u001b[2K   \u001b[90m━━━━━━━━━━━━━━━━━━━━━━━━━━━━━━━━━━━━━━━━\u001b[0m \u001b[32m92.9/92.9 kB\u001b[0m \u001b[31m3.9 MB/s\u001b[0m eta \u001b[36m0:00:00\u001b[0m\n",
            "\u001b[?25hDownloading numpy-1.26.4-cp39-cp39-macosx_11_0_arm64.whl (14.0 MB)\n",
            "\u001b[2K   \u001b[90m━━━━━━━━━━━━━━━━━━━━━━━━━━━━━━━━━━━━━━━━\u001b[0m \u001b[32m14.0/14.0 MB\u001b[0m \u001b[31m16.6 MB/s\u001b[0m eta \u001b[36m0:00:00\u001b[0m00:01\u001b[0m00:01\u001b[0m\n",
            "\u001b[?25hDownloading pandas-2.2.1-cp39-cp39-macosx_11_0_arm64.whl (11.3 MB)\n",
            "\u001b[2K   \u001b[90m━━━━━━━━━━━━━━━━━━━━━━━━━━━━━━━━━━━━━━━━\u001b[0m \u001b[32m11.3/11.3 MB\u001b[0m \u001b[31m15.6 MB/s\u001b[0m eta \u001b[36m0:00:00\u001b[0m00:01\u001b[0m00:01\u001b[0m\n",
            "\u001b[?25hDownloading pandera-0.17.2-py3-none-any.whl (203 kB)\n",
            "\u001b[2K   \u001b[90m━━━━━━━━━━━━━━━━━━━━━━━━━━━━━━━━━━━━━━━━\u001b[0m \u001b[32m203.4/203.4 kB\u001b[0m \u001b[31m7.4 MB/s\u001b[0m eta \u001b[36m0:00:00\u001b[0m\n",
            "\u001b[?25hDownloading scikit_learn-1.4.1.post1-cp39-cp39-macosx_12_0_arm64.whl (10.5 MB)\n",
            "\u001b[2K   \u001b[90m━━━━━━━━━━━━━━━━━━━━━━━━━━━━━━━━━━━━━━━━\u001b[0m \u001b[32m10.5/10.5 MB\u001b[0m \u001b[31m8.8 MB/s\u001b[0m eta \u001b[36m0:00:00\u001b[0m00:01\u001b[0m0:01\u001b[0mm\n",
            "\u001b[?25hUsing cached joblib-1.3.2-py3-none-any.whl (302 kB)\n",
            "Using cached pytz-2024.1-py2.py3-none-any.whl (505 kB)\n",
            "Downloading scipy-1.12.0-cp39-cp39-macosx_12_0_arm64.whl (31.4 MB)\n",
            "\u001b[2K   \u001b[90m━━━━━━━━━━━━━━━━━━━━━━━━━━━━━━━━━━━━━━━━\u001b[0m \u001b[32m31.4/31.4 MB\u001b[0m \u001b[31m21.3 MB/s\u001b[0m eta \u001b[36m0:00:00\u001b[0m00:01\u001b[0m00:01\u001b[0m\n",
            "\u001b[?25hUsing cached threadpoolctl-3.3.0-py3-none-any.whl (17 kB)\n",
            "Downloading typeguard-4.1.5-py3-none-any.whl (34 kB)\n",
            "Using cached typing_inspect-0.9.0-py3-none-any.whl (8.8 kB)\n",
            "Downloading tzdata-2024.1-py2.py3-none-any.whl (345 kB)\n",
            "\u001b[2K   \u001b[90m━━━━━━━━━━━━━━━━━━━━━━━━━━━━━━━━━━━━━━━━\u001b[0m \u001b[32m345.4/345.4 kB\u001b[0m \u001b[31m16.6 MB/s\u001b[0m eta \u001b[36m0:00:00\u001b[0m\n",
            "\u001b[?25hDownloading multimethod-1.11.2-py3-none-any.whl (10 kB)\n",
            "Downloading pydantic-2.6.4-py3-none-any.whl (394 kB)\n",
            "\u001b[2K   \u001b[90m━━━━━━━━━━━━━━━━━━━━━━━━━━━━━━━━━━━━━━━━\u001b[0m \u001b[32m394.9/394.9 kB\u001b[0m \u001b[31m18.4 MB/s\u001b[0m eta \u001b[36m0:00:00\u001b[0m\n",
            "\u001b[?25hDownloading pydantic_core-2.16.3-cp39-cp39-macosx_11_0_arm64.whl (1.8 MB)\n",
            "\u001b[2K   \u001b[90m━━━━━━━━━━━━━━━━━━━━━━━━━━━━━━━━━━━━━━━━\u001b[0m \u001b[32m1.8/1.8 MB\u001b[0m \u001b[31m20.3 MB/s\u001b[0m eta \u001b[36m0:00:00\u001b[0ma \u001b[36m0:00:01\u001b[0m\n",
            "\u001b[?25hDownloading wrapt-1.16.0-cp39-cp39-macosx_11_0_arm64.whl (38 kB)\n",
            "Using cached annotated_types-0.6.0-py3-none-any.whl (12 kB)\n",
            "Using cached mypy_extensions-1.0.0-py3-none-any.whl (4.7 kB)\n",
            "Building wheels for collected packages: lxml\n",
            "  Building wheel for lxml (pyproject.toml) ... \u001b[?25ldone\n",
            "\u001b[?25h  Created wheel for lxml: filename=lxml-4.9.4-cp39-cp39-macosx_10_9_universal2.whl size=3255104 sha256=c41be7ceda1847a43bf70260d979f88a23dff174902fbb5ea21c5b4243a56931\n",
            "  Stored in directory: /Users/danielhocevar/Library/Caches/pip/wheels/65/6f/dd/6e6c6b2eb5074cea1c6ccb36179a2f785d223142a0f9754a10\n",
            "Successfully built lxml\n",
            "Installing collected packages: pytz, wrapt, tzdata, threadpoolctl, pydantic-core, numpy, mypy-extensions, multimethod, lxml, joblib, annotated-types, typing-inspect, typeguard, scipy, pydantic, pandas, scikit-learn, pandera, socceraction\n",
            "Successfully installed annotated-types-0.6.0 joblib-1.3.2 lxml-4.9.4 multimethod-1.11.2 mypy-extensions-1.0.0 numpy-1.26.4 pandas-2.2.1 pandera-0.17.2 pydantic-2.6.4 pydantic-core-2.16.3 pytz-2024.1 scikit-learn-1.4.1.post1 scipy-1.12.0 socceraction-1.5.1 threadpoolctl-3.3.0 typeguard-4.1.5 typing-inspect-0.9.0 tzdata-2024.1 wrapt-1.16.0\n"
          ]
        }
      ],
      "source": [
        "!pip install socceraction"
      ]
    },
    {
      "cell_type": "code",
      "execution_count": 2,
      "metadata": {
        "colab": {
          "base_uri": "https://localhost:8080/"
        },
        "id": "cYlbbjUIlMY0",
        "outputId": "eaa9358e-25b1-4f51-f502-197dd82fcdc6"
      },
      "outputs": [
        {
          "name": "stdout",
          "output_type": "stream",
          "text": [
            "Collecting statsbombpy\n",
            "  Using cached statsbombpy-1.12.0-py3-none-any.whl.metadata (63 kB)\n",
            "Requirement already satisfied: pandas in ./.venv/lib/python3.9/site-packages (from statsbombpy) (2.2.1)\n",
            "Collecting requests (from statsbombpy)\n",
            "  Using cached requests-2.31.0-py3-none-any.whl.metadata (4.6 kB)\n",
            "Collecting requests-cache (from statsbombpy)\n",
            "  Using cached requests_cache-1.2.0-py3-none-any.whl.metadata (9.9 kB)\n",
            "Collecting inflect (from statsbombpy)\n",
            "  Using cached inflect-7.0.0-py3-none-any.whl.metadata (21 kB)\n",
            "Requirement already satisfied: joblib in ./.venv/lib/python3.9/site-packages (from statsbombpy) (1.3.2)\n",
            "Requirement already satisfied: pydantic>=1.9.1 in ./.venv/lib/python3.9/site-packages (from inflect->statsbombpy) (2.6.4)\n",
            "Requirement already satisfied: typing-extensions in ./.venv/lib/python3.9/site-packages (from inflect->statsbombpy) (4.10.0)\n",
            "Requirement already satisfied: numpy<2,>=1.22.4 in ./.venv/lib/python3.9/site-packages (from pandas->statsbombpy) (1.26.4)\n",
            "Requirement already satisfied: python-dateutil>=2.8.2 in ./.venv/lib/python3.9/site-packages (from pandas->statsbombpy) (2.9.0.post0)\n",
            "Requirement already satisfied: pytz>=2020.1 in ./.venv/lib/python3.9/site-packages (from pandas->statsbombpy) (2024.1)\n",
            "Requirement already satisfied: tzdata>=2022.7 in ./.venv/lib/python3.9/site-packages (from pandas->statsbombpy) (2024.1)\n",
            "Collecting charset-normalizer<4,>=2 (from requests->statsbombpy)\n",
            "  Downloading charset_normalizer-3.3.2-cp39-cp39-macosx_11_0_arm64.whl.metadata (33 kB)\n",
            "Collecting idna<4,>=2.5 (from requests->statsbombpy)\n",
            "  Using cached idna-3.6-py3-none-any.whl.metadata (9.9 kB)\n",
            "Collecting urllib3<3,>=1.21.1 (from requests->statsbombpy)\n",
            "  Using cached urllib3-2.2.1-py3-none-any.whl.metadata (6.4 kB)\n",
            "Collecting certifi>=2017.4.17 (from requests->statsbombpy)\n",
            "  Using cached certifi-2024.2.2-py3-none-any.whl.metadata (2.2 kB)\n",
            "Collecting attrs>=21.2 (from requests-cache->statsbombpy)\n",
            "  Using cached attrs-23.2.0-py3-none-any.whl.metadata (9.5 kB)\n",
            "Collecting cattrs>=22.2 (from requests-cache->statsbombpy)\n",
            "  Using cached cattrs-23.2.3-py3-none-any.whl.metadata (10 kB)\n",
            "Requirement already satisfied: platformdirs>=2.5 in ./.venv/lib/python3.9/site-packages (from requests-cache->statsbombpy) (4.2.0)\n",
            "Collecting url-normalize>=1.4 (from requests-cache->statsbombpy)\n",
            "  Using cached url_normalize-1.4.3-py2.py3-none-any.whl.metadata (3.1 kB)\n",
            "Requirement already satisfied: exceptiongroup>=1.1.1 in ./.venv/lib/python3.9/site-packages (from cattrs>=22.2->requests-cache->statsbombpy) (1.2.0)\n",
            "Requirement already satisfied: annotated-types>=0.4.0 in ./.venv/lib/python3.9/site-packages (from pydantic>=1.9.1->inflect->statsbombpy) (0.6.0)\n",
            "Requirement already satisfied: pydantic-core==2.16.3 in ./.venv/lib/python3.9/site-packages (from pydantic>=1.9.1->inflect->statsbombpy) (2.16.3)\n",
            "Requirement already satisfied: six>=1.5 in ./.venv/lib/python3.9/site-packages (from python-dateutil>=2.8.2->pandas->statsbombpy) (1.16.0)\n",
            "Using cached statsbombpy-1.12.0-py3-none-any.whl (16 kB)\n",
            "Using cached inflect-7.0.0-py3-none-any.whl (34 kB)\n",
            "Using cached requests-2.31.0-py3-none-any.whl (62 kB)\n",
            "Using cached requests_cache-1.2.0-py3-none-any.whl (61 kB)\n",
            "Using cached attrs-23.2.0-py3-none-any.whl (60 kB)\n",
            "Using cached cattrs-23.2.3-py3-none-any.whl (57 kB)\n",
            "Using cached certifi-2024.2.2-py3-none-any.whl (163 kB)\n",
            "Downloading charset_normalizer-3.3.2-cp39-cp39-macosx_11_0_arm64.whl (120 kB)\n",
            "\u001b[2K   \u001b[90m━━━━━━━━━━━━━━━━━━━━━━━━━━━━━━━━━━━━━━━━\u001b[0m \u001b[32m120.4/120.4 kB\u001b[0m \u001b[31m7.3 MB/s\u001b[0m eta \u001b[36m0:00:00\u001b[0m\n",
            "\u001b[?25hUsing cached idna-3.6-py3-none-any.whl (61 kB)\n",
            "Using cached url_normalize-1.4.3-py2.py3-none-any.whl (6.8 kB)\n",
            "Using cached urllib3-2.2.1-py3-none-any.whl (121 kB)\n",
            "Installing collected packages: urllib3, url-normalize, idna, charset-normalizer, certifi, attrs, requests, cattrs, requests-cache, inflect, statsbombpy\n",
            "Successfully installed attrs-23.2.0 cattrs-23.2.3 certifi-2024.2.2 charset-normalizer-3.3.2 idna-3.6 inflect-7.0.0 requests-2.31.0 requests-cache-1.2.0 statsbombpy-1.12.0 url-normalize-1.4.3 urllib3-2.2.1\n"
          ]
        }
      ],
      "source": [
        "!pip install statsbombpy"
      ]
    },
    {
      "cell_type": "code",
      "execution_count": 11,
      "metadata": {},
      "outputs": [
        {
          "name": "stdout",
          "output_type": "stream",
          "text": [
            "Collecting tqdm\n",
            "  Using cached tqdm-4.66.2-py3-none-any.whl.metadata (57 kB)\n",
            "Using cached tqdm-4.66.2-py3-none-any.whl (78 kB)\n",
            "Installing collected packages: tqdm\n",
            "Successfully installed tqdm-4.66.2\n"
          ]
        }
      ],
      "source": [
        "!pip install tqdm"
      ]
    },
    {
      "cell_type": "code",
      "execution_count": 18,
      "metadata": {
        "execution": {
          "iopub.execute_input": "2023-12-30T16:23:47.161829Z",
          "iopub.status.busy": "2023-12-30T16:23:47.161614Z",
          "iopub.status.idle": "2023-12-30T16:23:48.562198Z",
          "shell.execute_reply": "2023-12-30T16:23:48.561635Z"
        },
        "id": "KqArwIhDkXA0"
      },
      "outputs": [],
      "source": [
        "from socceraction.data.statsbomb import StatsBombLoader\n",
        "import socceraction.spadl as spadl\n",
        "import socceraction.atomic.spadl as atomicspadl\n",
        "import tqdm"
      ]
    },
    {
      "cell_type": "markdown",
      "metadata": {
        "id": "h9PJrmTckXA1"
      },
      "source": [
        "## Set up the statsbombloader"
      ]
    },
    {
      "cell_type": "code",
      "execution_count": 19,
      "metadata": {
        "execution": {
          "iopub.execute_input": "2023-12-30T16:23:48.564376Z",
          "iopub.status.busy": "2023-12-30T16:23:48.564122Z",
          "iopub.status.idle": "2023-12-30T16:23:48.587021Z",
          "shell.execute_reply": "2023-12-30T16:23:48.586493Z"
        },
        "id": "GkKtnnZNkXA1"
      },
      "outputs": [],
      "source": [
        "# Use this if you only want to use the free public statsbomb data\n",
        "free_open_data_remote = \"https://raw.githubusercontent.com/statsbomb/open-data/master/data/\"\n",
        "SBL = StatsBombLoader(root=free_open_data_remote, getter=\"remote\")\n",
        "\n",
        "# # Uncomment the code below if you have a local folder on your computer with statsbomb data\n",
        "#datafolder = \"../data-epl\" # Example of local folder with statsbomb data\n",
        "#SBL = statsbomb.StatsBombLoader(root=datafolder, getter=\"local\")"
      ]
    },
    {
      "cell_type": "markdown",
      "metadata": {
        "id": "DCDeZF6_kXA1"
      },
      "source": [
        "## Select competitions to load and convert"
      ]
    },
    {
      "cell_type": "code",
      "execution_count": 20,
      "metadata": {
        "colab": {
          "base_uri": "https://localhost:8080/"
        },
        "execution": {
          "iopub.execute_input": "2023-12-30T16:23:48.589278Z",
          "iopub.status.busy": "2023-12-30T16:23:48.589060Z",
          "iopub.status.idle": "2023-12-30T16:23:48.795072Z",
          "shell.execute_reply": "2023-12-30T16:23:48.793256Z"
        },
        "id": "m6OVcsXQkXA1",
        "outputId": "22a5c013-596c-4047-9b9f-72d17480e39f"
      },
      "outputs": [
        {
          "data": {
            "text/plain": [
              "{'1. Bundesliga',\n",
              " 'African Cup of Nations',\n",
              " 'Champions League',\n",
              " 'Copa del Rey',\n",
              " \"FA Women's Super League\",\n",
              " 'FIFA U20 World Cup',\n",
              " 'FIFA World Cup',\n",
              " 'Indian Super league',\n",
              " 'La Liga',\n",
              " 'Liga Profesional',\n",
              " 'Ligue 1',\n",
              " 'Major League Soccer',\n",
              " 'NWSL',\n",
              " 'North American League',\n",
              " 'Premier League',\n",
              " 'Serie A',\n",
              " 'UEFA Euro',\n",
              " 'UEFA Europa League',\n",
              " \"UEFA Women's Euro\",\n",
              " \"Women's World Cup\"}"
            ]
          },
          "execution_count": 20,
          "metadata": {},
          "output_type": "execute_result"
        }
      ],
      "source": [
        "# View all available competitions\n",
        "competitions = SBL.competitions()\n",
        "set(competitions.competition_name)"
      ]
    },
    {
      "cell_type": "code",
      "execution_count": 21,
      "metadata": {
        "colab": {
          "base_uri": "https://localhost:8080/",
          "height": 215
        },
        "execution": {
          "iopub.execute_input": "2023-12-30T16:23:48.801026Z",
          "iopub.status.busy": "2023-12-30T16:23:48.800545Z",
          "iopub.status.idle": "2023-12-30T16:23:48.851157Z",
          "shell.execute_reply": "2023-12-30T16:23:48.850614Z"
        },
        "id": "H7dgwqQGkXA2",
        "outputId": "f9695d25-7746-4e14-8c8b-3357d0f9d008"
      },
      "outputs": [
        {
          "data": {
            "text/html": [
              "<div>\n",
              "<style scoped>\n",
              "    .dataframe tbody tr th:only-of-type {\n",
              "        vertical-align: middle;\n",
              "    }\n",
              "\n",
              "    .dataframe tbody tr th {\n",
              "        vertical-align: top;\n",
              "    }\n",
              "\n",
              "    .dataframe thead th {\n",
              "        text-align: right;\n",
              "    }\n",
              "</style>\n",
              "<table border=\"1\" class=\"dataframe\">\n",
              "  <thead>\n",
              "    <tr style=\"text-align: right;\">\n",
              "      <th></th>\n",
              "      <th>season_id</th>\n",
              "      <th>competition_id</th>\n",
              "      <th>competition_name</th>\n",
              "      <th>country_name</th>\n",
              "      <th>competition_gender</th>\n",
              "      <th>season_name</th>\n",
              "    </tr>\n",
              "  </thead>\n",
              "  <tbody>\n",
              "    <tr>\n",
              "      <th>23</th>\n",
              "      <td>90</td>\n",
              "      <td>37</td>\n",
              "      <td>FA Women's Super League</td>\n",
              "      <td>England</td>\n",
              "      <td>female</td>\n",
              "      <td>2020/2021</td>\n",
              "    </tr>\n",
              "    <tr>\n",
              "      <th>24</th>\n",
              "      <td>42</td>\n",
              "      <td>37</td>\n",
              "      <td>FA Women's Super League</td>\n",
              "      <td>England</td>\n",
              "      <td>female</td>\n",
              "      <td>2019/2020</td>\n",
              "    </tr>\n",
              "    <tr>\n",
              "      <th>25</th>\n",
              "      <td>4</td>\n",
              "      <td>37</td>\n",
              "      <td>FA Women's Super League</td>\n",
              "      <td>England</td>\n",
              "      <td>female</td>\n",
              "      <td>2018/2019</td>\n",
              "    </tr>\n",
              "  </tbody>\n",
              "</table>\n",
              "</div>"
            ],
            "text/plain": [
              "    season_id  competition_id         competition_name country_name  \\\n",
              "23         90              37  FA Women's Super League      England   \n",
              "24         42              37  FA Women's Super League      England   \n",
              "25          4              37  FA Women's Super League      England   \n",
              "\n",
              "   competition_gender season_name  \n",
              "23             female   2020/2021  \n",
              "24             female   2019/2020  \n",
              "25             female   2018/2019  "
            ]
          },
          "execution_count": 21,
          "metadata": {},
          "output_type": "execute_result"
        }
      ],
      "source": [
        "# # FA Women's Super League\n",
        "selected_competitions = competitions[competitions.competition_name == \"FA Women's Super League\"]\n",
        "selected_competitions"
      ]
    },
    {
      "cell_type": "code",
      "execution_count": 22,
      "metadata": {
        "execution": {
          "iopub.execute_input": "2023-12-30T16:23:46.629864Z",
          "iopub.status.busy": "2023-12-30T16:23:46.628340Z",
          "iopub.status.idle": "2023-12-30T16:23:47.159736Z",
          "shell.execute_reply": "2023-12-30T16:23:47.159208Z"
        },
        "id": "SlXsBOi8kXAy"
      },
      "outputs": [],
      "source": [
        "import pandas as pd\n",
        "pd.set_option('display.max_columns', None)\n",
        "import tqdm"
      ]
    },
    {
      "cell_type": "code",
      "execution_count": 23,
      "metadata": {
        "colab": {
          "base_uri": "https://localhost:8080/",
          "height": 551
        },
        "execution": {
          "iopub.execute_input": "2023-12-30T16:23:48.853770Z",
          "iopub.status.busy": "2023-12-30T16:23:48.853565Z",
          "iopub.status.idle": "2023-12-30T16:23:49.092229Z",
          "shell.execute_reply": "2023-12-30T16:23:49.091209Z"
        },
        "id": "UiUL45sKkXA3",
        "outputId": "2ac8e595-8bcd-43fb-c823-9876973bc319",
        "scrolled": true
      },
      "outputs": [
        {
          "data": {
            "text/html": [
              "<div>\n",
              "<style scoped>\n",
              "    .dataframe tbody tr th:only-of-type {\n",
              "        vertical-align: middle;\n",
              "    }\n",
              "\n",
              "    .dataframe tbody tr th {\n",
              "        vertical-align: top;\n",
              "    }\n",
              "\n",
              "    .dataframe thead th {\n",
              "        text-align: right;\n",
              "    }\n",
              "</style>\n",
              "<table border=\"1\" class=\"dataframe\">\n",
              "  <thead>\n",
              "    <tr style=\"text-align: right;\">\n",
              "      <th></th>\n",
              "      <th>home_team_id</th>\n",
              "      <th>away_team_id</th>\n",
              "      <th>game_date</th>\n",
              "      <th>home_score</th>\n",
              "      <th>away_score</th>\n",
              "    </tr>\n",
              "  </thead>\n",
              "  <tbody>\n",
              "    <tr>\n",
              "      <th>0</th>\n",
              "      <td>2647</td>\n",
              "      <td>968</td>\n",
              "      <td>2021-02-28 15:00:00</td>\n",
              "      <td>0</td>\n",
              "      <td>4</td>\n",
              "    </tr>\n",
              "    <tr>\n",
              "      <th>1</th>\n",
              "      <td>968</td>\n",
              "      <td>972</td>\n",
              "      <td>2021-04-28 20:30:00</td>\n",
              "      <td>2</td>\n",
              "      <td>0</td>\n",
              "    </tr>\n",
              "    <tr>\n",
              "      <th>2</th>\n",
              "      <td>2647</td>\n",
              "      <td>749</td>\n",
              "      <td>2021-02-06 13:30:00</td>\n",
              "      <td>1</td>\n",
              "      <td>0</td>\n",
              "    </tr>\n",
              "    <tr>\n",
              "      <th>3</th>\n",
              "      <td>965</td>\n",
              "      <td>967</td>\n",
              "      <td>2021-03-28 13:30:00</td>\n",
              "      <td>0</td>\n",
              "      <td>5</td>\n",
              "    </tr>\n",
              "    <tr>\n",
              "      <th>4</th>\n",
              "      <td>971</td>\n",
              "      <td>2647</td>\n",
              "      <td>2021-03-28 15:30:00</td>\n",
              "      <td>2</td>\n",
              "      <td>0</td>\n",
              "    </tr>\n",
              "    <tr>\n",
              "      <th>...</th>\n",
              "      <td>...</td>\n",
              "      <td>...</td>\n",
              "      <td>...</td>\n",
              "      <td>...</td>\n",
              "      <td>...</td>\n",
              "    </tr>\n",
              "    <tr>\n",
              "      <th>103</th>\n",
              "      <td>966</td>\n",
              "      <td>968</td>\n",
              "      <td>2019-03-24 13:30:00</td>\n",
              "      <td>1</td>\n",
              "      <td>5</td>\n",
              "    </tr>\n",
              "    <tr>\n",
              "      <th>104</th>\n",
              "      <td>968</td>\n",
              "      <td>972</td>\n",
              "      <td>2018-09-23 15:00:00</td>\n",
              "      <td>4</td>\n",
              "      <td>3</td>\n",
              "    </tr>\n",
              "    <tr>\n",
              "      <th>105</th>\n",
              "      <td>973</td>\n",
              "      <td>972</td>\n",
              "      <td>2019-04-28 16:00:00</td>\n",
              "      <td>1</td>\n",
              "      <td>2</td>\n",
              "    </tr>\n",
              "    <tr>\n",
              "      <th>106</th>\n",
              "      <td>973</td>\n",
              "      <td>967</td>\n",
              "      <td>2019-03-24 16:00:00</td>\n",
              "      <td>1</td>\n",
              "      <td>0</td>\n",
              "    </tr>\n",
              "    <tr>\n",
              "      <th>107</th>\n",
              "      <td>965</td>\n",
              "      <td>969</td>\n",
              "      <td>2019-02-20 20:45:00</td>\n",
              "      <td>2</td>\n",
              "      <td>1</td>\n",
              "    </tr>\n",
              "  </tbody>\n",
              "</table>\n",
              "<p>326 rows × 5 columns</p>\n",
              "</div>"
            ],
            "text/plain": [
              "     home_team_id  away_team_id           game_date  home_score  away_score\n",
              "0            2647           968 2021-02-28 15:00:00           0           4\n",
              "1             968           972 2021-04-28 20:30:00           2           0\n",
              "2            2647           749 2021-02-06 13:30:00           1           0\n",
              "3             965           967 2021-03-28 13:30:00           0           5\n",
              "4             971          2647 2021-03-28 15:30:00           2           0\n",
              "..            ...           ...                 ...         ...         ...\n",
              "103           966           968 2019-03-24 13:30:00           1           5\n",
              "104           968           972 2018-09-23 15:00:00           4           3\n",
              "105           973           972 2019-04-28 16:00:00           1           2\n",
              "106           973           967 2019-03-24 16:00:00           1           0\n",
              "107           965           969 2019-02-20 20:45:00           2           1\n",
              "\n",
              "[326 rows x 5 columns]"
            ]
          },
          "execution_count": 23,
          "metadata": {},
          "output_type": "execute_result"
        }
      ],
      "source": [
        "import pandas as pd\n",
        "# Get games from all selected competitions\n",
        "games = pd.concat([\n",
        "    SBL.games(row.competition_id, row.season_id)\n",
        "    for row in selected_competitions.itertuples()\n",
        "])\n",
        "games[[\"home_team_id\", \"away_team_id\", \"game_date\", \"home_score\", \"away_score\"]]"
      ]
    },
    {
      "cell_type": "markdown",
      "metadata": {
        "id": "8kFeAyn9kXA3"
      },
      "source": [
        "## Load and convert match data"
      ]
    },
    {
      "cell_type": "code",
      "execution_count": 16,
      "metadata": {},
      "outputs": [],
      "source": [
        "# import warnings\n",
        "# warnings.filterwarnings(\"ignore\")\n"
      ]
    },
    {
      "cell_type": "code",
      "execution_count": 24,
      "metadata": {
        "colab": {
          "base_uri": "https://localhost:8080/"
        },
        "execution": {
          "iopub.execute_input": "2023-12-30T16:23:49.095071Z",
          "iopub.status.busy": "2023-12-30T16:23:49.094853Z",
          "iopub.status.idle": "2023-12-30T16:25:11.026861Z",
          "shell.execute_reply": "2023-12-30T16:25:11.026221Z"
        },
        "id": "QcbZx34ekXA4",
        "outputId": "e76d8972-6b5f-43ef-960d-3a6bece4f77b"
      },
      "outputs": [
        {
          "name": "stderr",
          "output_type": "stream",
          "text": [
            "Loading game data: 100%|██████████| 326/326 [04:47<00:00,  1.13it/s]\n"
          ]
        }
      ],
      "source": [
        "games_verbose = tqdm.tqdm(list(games.itertuples()), desc=\"Loading game data\")\n",
        "teams, players = [], []\n",
        "actions = {}\n",
        "atomic_actions = {}\n",
        "for game in games_verbose:\n",
        "    # load data\n",
        "    teams.append(SBL.teams(game.game_id))\n",
        "    players.append(SBL.players(game.game_id))\n",
        "    events = SBL.events(game.game_id)\n",
        "\n",
        "    # convert data\n",
        "    actions = spadl.statsbomb.convert_to_actions(\n",
        "        events,\n",
        "        home_team_id=game.home_team_id,\n",
        "        xy_fidelity_version=1,\n",
        "        shot_fidelity_version=1\n",
        "    )\n",
        "    atomic_actions[game.game_id] = atomicspadl.convert_to_atomic(actions)\n",
        "\n",
        "teams = pd.concat(teams).drop_duplicates(subset=\"team_id\")\n",
        "players = pd.concat(players)"
      ]
    },
    {
      "cell_type": "markdown",
      "metadata": {
        "id": "EtOucOAmkXA4"
      },
      "source": [
        "## Store converted spadl data in a h5-file"
      ]
    },
    {
      "cell_type": "code",
      "execution_count": 25,
      "metadata": {
        "id": "5GgvRd9g_vi3"
      },
      "outputs": [],
      "source": [
        "pd.concat(atomic_actions.values()).to_csv(\"WSL_actions.csv\")"
      ]
    },
    {
      "cell_type": "code",
      "execution_count": null,
      "metadata": {},
      "outputs": [],
      "source": []
    }
  ],
  "metadata": {
    "colab": {
      "provenance": []
    },
    "kernelspec": {
      "display_name": "csc413",
      "language": "python",
      "name": "python3"
    },
    "language_info": {
      "codemirror_mode": {
        "name": "ipython",
        "version": 3
      },
      "file_extension": ".py",
      "mimetype": "text/x-python",
      "name": "python",
      "nbconvert_exporter": "python",
      "pygments_lexer": "ipython3",
      "version": "3.9.6"
    },
    "toc": {
      "base_numbering": 1,
      "nav_menu": {},
      "number_sections": true,
      "sideBar": true,
      "skip_h1_title": false,
      "title_cell": "Table of Contents",
      "title_sidebar": "Contents",
      "toc_cell": false,
      "toc_position": {},
      "toc_section_display": true,
      "toc_window_display": true
    },
    "varInspector": {
      "cols": {
        "lenName": 16,
        "lenType": 16,
        "lenVar": 40
      },
      "kernels_config": {
        "python": {
          "delete_cmd_postfix": "",
          "delete_cmd_prefix": "del ",
          "library": "var_list.py",
          "varRefreshCmd": "print(var_dic_list())"
        },
        "r": {
          "delete_cmd_postfix": ") ",
          "delete_cmd_prefix": "rm(",
          "library": "var_list.r",
          "varRefreshCmd": "cat(var_dic_list()) "
        }
      },
      "types_to_exclude": [
        "module",
        "function",
        "builtin_function_or_method",
        "instance",
        "_Feature"
      ],
      "window_display": false
    }
  },
  "nbformat": 4,
  "nbformat_minor": 0
}
