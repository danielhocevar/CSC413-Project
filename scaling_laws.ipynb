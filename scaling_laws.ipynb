{
  "cells": [
    {
      "cell_type": "code",
      "execution_count": 3,
      "metadata": {},
      "outputs": [],
      "source": [
        "# Hyperparameters\n",
        "n_prev_actions = 9\n",
        "batch_size = 32"
      ]
    },
    {
      "cell_type": "markdown",
      "metadata": {
        "id": "TfEgBsTusPSa"
      },
      "source": [
        "## Data Preparation"
      ]
    },
    {
      "cell_type": "code",
      "execution_count": 4,
      "metadata": {
        "id": "8vo-4zeDsPSb"
      },
      "outputs": [
        {
          "data": {
            "text/html": [
              "<div>\n",
              "<style scoped>\n",
              "    .dataframe tbody tr th:only-of-type {\n",
              "        vertical-align: middle;\n",
              "    }\n",
              "\n",
              "    .dataframe tbody tr th {\n",
              "        vertical-align: top;\n",
              "    }\n",
              "\n",
              "    .dataframe thead th {\n",
              "        text-align: right;\n",
              "    }\n",
              "</style>\n",
              "<table border=\"1\" class=\"dataframe\">\n",
              "  <thead>\n",
              "    <tr style=\"text-align: right;\">\n",
              "      <th></th>\n",
              "      <th>match_id</th>\n",
              "      <th>action_token</th>\n",
              "      <th>dataset</th>\n",
              "    </tr>\n",
              "  </thead>\n",
              "  <tbody>\n",
              "    <tr>\n",
              "      <th>0</th>\n",
              "      <td>315</td>\n",
              "      <td>True,pass,4,4</td>\n",
              "      <td>train</td>\n",
              "    </tr>\n",
              "    <tr>\n",
              "      <th>1</th>\n",
              "      <td>315</td>\n",
              "      <td>True,receival,4,5</td>\n",
              "      <td>train</td>\n",
              "    </tr>\n",
              "    <tr>\n",
              "      <th>2</th>\n",
              "      <td>315</td>\n",
              "      <td>True,dribble,4,5</td>\n",
              "      <td>train</td>\n",
              "    </tr>\n",
              "    <tr>\n",
              "      <th>3</th>\n",
              "      <td>315</td>\n",
              "      <td>True,pass,5,5</td>\n",
              "      <td>train</td>\n",
              "    </tr>\n",
              "    <tr>\n",
              "      <th>4</th>\n",
              "      <td>315</td>\n",
              "      <td>True,receival,6,4</td>\n",
              "      <td>train</td>\n",
              "    </tr>\n",
              "    <tr>\n",
              "      <th>...</th>\n",
              "      <td>...</td>\n",
              "      <td>...</td>\n",
              "      <td>...</td>\n",
              "    </tr>\n",
              "    <tr>\n",
              "      <th>939915</th>\n",
              "      <td>82</td>\n",
              "      <td>False,receival,8,0</td>\n",
              "      <td>test</td>\n",
              "    </tr>\n",
              "    <tr>\n",
              "      <th>939916</th>\n",
              "      <td>82</td>\n",
              "      <td>False,dribble,8,0</td>\n",
              "      <td>test</td>\n",
              "    </tr>\n",
              "    <tr>\n",
              "      <th>939917</th>\n",
              "      <td>82</td>\n",
              "      <td>True,tackle,9,0</td>\n",
              "      <td>test</td>\n",
              "    </tr>\n",
              "    <tr>\n",
              "      <th>939918</th>\n",
              "      <td>82</td>\n",
              "      <td>True,dribble,9,0</td>\n",
              "      <td>test</td>\n",
              "    </tr>\n",
              "    <tr>\n",
              "      <th>939919</th>\n",
              "      <td>82</td>\n",
              "      <td>True,pass,8,1</td>\n",
              "      <td>test</td>\n",
              "    </tr>\n",
              "  </tbody>\n",
              "</table>\n",
              "<p>939920 rows × 3 columns</p>\n",
              "</div>"
            ],
            "text/plain": [
              "        match_id        action_token dataset\n",
              "0            315       True,pass,4,4   train\n",
              "1            315   True,receival,4,5   train\n",
              "2            315    True,dribble,4,5   train\n",
              "3            315       True,pass,5,5   train\n",
              "4            315   True,receival,6,4   train\n",
              "...          ...                 ...     ...\n",
              "939915        82  False,receival,8,0    test\n",
              "939916        82   False,dribble,8,0    test\n",
              "939917        82     True,tackle,9,0    test\n",
              "939918        82    True,dribble,9,0    test\n",
              "939919        82       True,pass,8,1    test\n",
              "\n",
              "[939920 rows x 3 columns]"
            ]
          },
          "execution_count": 4,
          "metadata": {},
          "output_type": "execute_result"
        }
      ],
      "source": [
        "import pandas as pd\n",
        "from preprocess_data import *\n",
        "\n",
        "import pandas as pd\n",
        "df = (\n",
        "    pd.read_csv(\"df_clean.csv\", index_col = 0)\n",
        "    .assign(action_token = lambda d: pd.Categorical(d.action_token))\n",
        ")\n",
        "\n",
        "vocab = df['action_token'].cat.categories\n",
        "\n",
        "df"
      ]
    },
    {
      "cell_type": "markdown",
      "metadata": {},
      "source": [
        "## Compare the effects of train dataset size"
      ]
    },
    {
      "cell_type": "code",
      "execution_count": 59,
      "metadata": {},
      "outputs": [
        {
          "name": "stderr",
          "output_type": "stream",
          "text": [
            "/home/daniel/miniconda3/envs/csc413/lib/python3.9/site-packages/torch/nn/modules/transformer.py:286: UserWarning: enable_nested_tensor is True, but self.use_nested_tensor is False because encoder_layer.self_attn.batch_first was not True(use batch_first for better inference performance)\n",
            "  warnings.warn(f\"enable_nested_tensor is True, but self.use_nested_tensor is False because {why_not_sparsity_fast_path}\")\n"
          ]
        },
        {
          "name": "stdout",
          "output_type": "stream",
          "text": [
            "CURRENT X TRAIN SIZE: 50000\n",
            "1563 2938\n",
            "cuda\n"
          ]
        },
        {
          "name": "stderr",
          "output_type": "stream",
          "text": [
            "100%|██████████| 1563/1563 [00:03<00:00, 422.41it/s]\n",
            "100%|██████████| 2938/2938 [00:03<00:00, 946.17it/s]\n"
          ]
        },
        {
          "name": "stdout",
          "output_type": "stream",
          "text": [
            "Epoch 0, iter 1563, train_loss: 6.763312002061196, train_acc: 0.1318226307630539, val_loss: 5.845251017155657, val_acc: 0.29795926809310913\n"
          ]
        },
        {
          "name": "stderr",
          "output_type": "stream",
          "text": [
            "100%|██████████| 1563/1563 [00:03<00:00, 425.34it/s]\n",
            "100%|██████████| 2938/2938 [00:03<00:00, 936.37it/s]\n"
          ]
        },
        {
          "name": "stdout",
          "output_type": "stream",
          "text": [
            "Epoch 1, iter 1563, train_loss: 5.017605133111554, train_acc: 0.3310666084289551, val_loss: 4.3916333908122605, val_acc: 0.36554381251335144\n"
          ]
        },
        {
          "name": "stderr",
          "output_type": "stream",
          "text": [
            "100%|██████████| 1563/1563 [00:03<00:00, 427.96it/s]\n",
            "100%|██████████| 2938/2938 [00:03<00:00, 914.05it/s]\n"
          ]
        },
        {
          "name": "stdout",
          "output_type": "stream",
          "text": [
            "Epoch 2, iter 1563, train_loss: 3.8635034872336944, train_acc: 0.375807523727417, val_loss: 3.7334691421607467, val_acc: 0.3868342339992523\n"
          ]
        },
        {
          "name": "stderr",
          "output_type": "stream",
          "text": [
            "100%|██████████| 1563/1563 [00:03<00:00, 426.88it/s]\n",
            "100%|██████████| 2938/2938 [00:03<00:00, 937.49it/s]\n"
          ]
        },
        {
          "name": "stdout",
          "output_type": "stream",
          "text": [
            "Epoch 3, iter 1563, train_loss: 3.31701888667416, train_acc: 0.3963679075241089, val_loss: 3.4325493992064744, val_acc: 0.39380335807800293\n"
          ]
        },
        {
          "name": "stderr",
          "output_type": "stream",
          "text": [
            "100%|██████████| 1563/1563 [00:03<00:00, 420.40it/s]\n",
            "100%|██████████| 2938/2938 [00:03<00:00, 922.23it/s]\n"
          ]
        },
        {
          "name": "stdout",
          "output_type": "stream",
          "text": [
            "Epoch 4, iter 1563, train_loss: 3.0136316145984163, train_acc: 0.4059881269931793, val_loss: 3.2793418000635444, val_acc: 0.39713361859321594\n"
          ]
        },
        {
          "name": "stderr",
          "output_type": "stream",
          "text": [
            "100%|██████████| 1563/1563 [00:03<00:00, 425.47it/s]\n",
            "100%|██████████| 2938/2938 [00:03<00:00, 920.46it/s]\n"
          ]
        },
        {
          "name": "stdout",
          "output_type": "stream",
          "text": [
            "Epoch 5, iter 1563, train_loss: 2.8190733270620734, train_acc: 0.4117482304573059, val_loss: 3.1981222989447184, val_acc: 0.3996765613555908\n",
            "CURRENT X TRAIN SIZE: 100000\n",
            "3125 2938\n",
            "cuda\n"
          ]
        },
        {
          "name": "stderr",
          "output_type": "stream",
          "text": [
            "100%|██████████| 3125/3125 [00:07<00:00, 423.59it/s]\n",
            "100%|██████████| 2938/2938 [00:03<00:00, 942.64it/s]\n"
          ]
        },
        {
          "name": "stdout",
          "output_type": "stream",
          "text": [
            "Epoch 0, iter 3125, train_loss: 5.9446010394287105, train_acc: 0.23244231939315796, val_loss: 4.351119593830641, val_acc: 0.3673419654369354\n"
          ]
        },
        {
          "name": "stderr",
          "output_type": "stream",
          "text": [
            "100%|██████████| 3125/3125 [00:07<00:00, 425.04it/s]\n",
            "100%|██████████| 2938/2938 [00:03<00:00, 945.58it/s]\n"
          ]
        },
        {
          "name": "stdout",
          "output_type": "stream",
          "text": [
            "Epoch 1, iter 3125, train_loss: 3.717715919265747, train_acc: 0.3796337842941284, val_loss: 3.355063473299866, val_acc: 0.39716553688049316\n"
          ]
        },
        {
          "name": "stderr",
          "output_type": "stream",
          "text": [
            "100%|██████████| 3125/3125 [00:07<00:00, 425.73it/s]\n",
            "100%|██████████| 2938/2938 [00:03<00:00, 942.90it/s]\n"
          ]
        },
        {
          "name": "stdout",
          "output_type": "stream",
          "text": [
            "Epoch 2, iter 3125, train_loss: 3.0952505796813963, train_acc: 0.39670395851135254, val_loss: 3.081653172909767, val_acc: 0.4028366208076477\n"
          ]
        },
        {
          "name": "stderr",
          "output_type": "stream",
          "text": [
            "100%|██████████| 3125/3125 [00:07<00:00, 421.36it/s]\n",
            "100%|██████████| 2938/2938 [00:03<00:00, 939.86it/s]\n"
          ]
        },
        {
          "name": "stdout",
          "output_type": "stream",
          "text": [
            "Epoch 3, iter 3125, train_loss: 2.8533836960601806, train_acc: 0.4038740396499634, val_loss: 2.97269894494095, val_acc: 0.4052093029022217\n"
          ]
        },
        {
          "name": "stderr",
          "output_type": "stream",
          "text": [
            "100%|██████████| 3125/3125 [00:07<00:00, 432.11it/s]\n",
            "100%|██████████| 2938/2938 [00:03<00:00, 937.36it/s]\n"
          ]
        },
        {
          "name": "stdout",
          "output_type": "stream",
          "text": [
            "Epoch 4, iter 3125, train_loss: 2.7225926943969725, train_acc: 0.4066840708255768, val_loss: 2.9231451354601337, val_acc: 0.4064541757106781\n"
          ]
        },
        {
          "name": "stderr",
          "output_type": "stream",
          "text": [
            "100%|██████████| 3125/3125 [00:07<00:00, 425.76it/s]\n",
            "100%|██████████| 2938/2938 [00:03<00:00, 939.26it/s]\n"
          ]
        },
        {
          "name": "stdout",
          "output_type": "stream",
          "text": [
            "Epoch 5, iter 3125, train_loss: 2.6385667374801636, train_acc: 0.4097040891647339, val_loss: 2.8954650396550896, val_acc: 0.40618816018104553\n",
            "CURRENT X TRAIN SIZE: 250000\n",
            "7813 2938\n",
            "cuda\n"
          ]
        },
        {
          "name": "stderr",
          "output_type": "stream",
          "text": [
            "100%|██████████| 7813/7813 [00:18<00:00, 430.97it/s]\n",
            "100%|██████████| 2938/2938 [00:03<00:00, 952.68it/s]\n"
          ]
        },
        {
          "name": "stdout",
          "output_type": "stream",
          "text": [
            "Epoch 0, iter 7813, train_loss: 4.543773710033461, train_acc: 0.3230612874031067, val_loss: 3.1475568498536144, val_acc: 0.4008788764476776\n"
          ]
        },
        {
          "name": "stderr",
          "output_type": "stream",
          "text": [
            "100%|██████████| 7813/7813 [00:18<00:00, 431.90it/s]\n",
            "100%|██████████| 2938/2938 [00:03<00:00, 919.16it/s]\n"
          ]
        },
        {
          "name": "stdout",
          "output_type": "stream",
          "text": [
            "Epoch 1, iter 7813, train_loss: 2.9439849256172264, train_acc: 0.3980695903301239, val_loss: 2.8507108074860805, val_acc: 0.40635842084884644\n"
          ]
        },
        {
          "name": "stderr",
          "output_type": "stream",
          "text": [
            "100%|██████████| 7813/7813 [00:17<00:00, 439.01it/s]\n",
            "100%|██████████| 2938/2938 [00:03<00:00, 944.67it/s]\n"
          ]
        },
        {
          "name": "stdout",
          "output_type": "stream",
          "text": [
            "Epoch 2, iter 7813, train_loss: 2.744325620072547, train_acc: 0.40277761220932007, val_loss: 2.774951952444282, val_acc: 0.4103483557701111\n"
          ]
        },
        {
          "name": "stderr",
          "output_type": "stream",
          "text": [
            "100%|██████████| 7813/7813 [00:18<00:00, 429.25it/s]\n",
            "100%|██████████| 2938/2938 [00:03<00:00, 942.56it/s]\n"
          ]
        },
        {
          "name": "stdout",
          "output_type": "stream",
          "text": [
            "Epoch 3, iter 7813, train_loss: 2.6623950078883185, train_acc: 0.4053296148777008, val_loss: 2.7387386244766723, val_acc: 0.4117315411567688\n"
          ]
        },
        {
          "name": "stderr",
          "output_type": "stream",
          "text": [
            "100%|██████████| 7813/7813 [00:18<00:00, 430.68it/s]\n",
            "100%|██████████| 2938/2938 [00:03<00:00, 942.03it/s]\n"
          ]
        },
        {
          "name": "stdout",
          "output_type": "stream",
          "text": [
            "Epoch 4, iter 7813, train_loss: 2.6121780430173565, train_acc: 0.4074016213417053, val_loss: 2.726920839107467, val_acc: 0.41224226355552673\n"
          ]
        },
        {
          "name": "stderr",
          "output_type": "stream",
          "text": [
            "100%|██████████| 7813/7813 [00:17<00:00, 434.77it/s]\n",
            "100%|██████████| 2938/2938 [00:03<00:00, 930.40it/s]\n"
          ]
        },
        {
          "name": "stdout",
          "output_type": "stream",
          "text": [
            "Epoch 5, iter 7813, train_loss: 2.5739355544709492, train_acc: 0.4094136357307434, val_loss: 2.716574861006805, val_acc: 0.41284874081611633\n",
            "CURRENT X TRAIN SIZE: 500000\n",
            "15625 2938\n",
            "cuda\n"
          ]
        },
        {
          "name": "stderr",
          "output_type": "stream",
          "text": [
            "100%|██████████| 15625/15625 [00:36<00:00, 431.28it/s]\n",
            "100%|██████████| 2938/2938 [00:03<00:00, 946.28it/s]\n"
          ]
        },
        {
          "name": "stdout",
          "output_type": "stream",
          "text": [
            "Epoch 0, iter 15625, train_loss: 3.7826587065734865, train_acc: 0.359538733959198, val_loss: 2.8197554856275033, val_acc: 0.4097525179386139\n"
          ]
        },
        {
          "name": "stderr",
          "output_type": "stream",
          "text": [
            "100%|██████████| 15625/15625 [00:36<00:00, 430.99it/s]\n",
            "100%|██████████| 2938/2938 [00:03<00:00, 942.21it/s]\n"
          ]
        },
        {
          "name": "stdout",
          "output_type": "stream",
          "text": [
            "Epoch 1, iter 15625, train_loss: 2.7612373671112063, train_acc: 0.40267881751060486, val_loss: 2.7035162656424077, val_acc: 0.4122103452682495\n"
          ]
        },
        {
          "name": "stderr",
          "output_type": "stream",
          "text": [
            "100%|██████████| 15625/15625 [00:36<00:00, 428.50it/s]\n",
            "100%|██████████| 2938/2938 [00:03<00:00, 939.36it/s]\n"
          ]
        },
        {
          "name": "stdout",
          "output_type": "stream",
          "text": [
            "Epoch 2, iter 15625, train_loss: 2.665359222213745, train_acc: 0.4066988229751587, val_loss: 2.665144155389034, val_acc: 0.41455110907554626\n"
          ]
        },
        {
          "name": "stderr",
          "output_type": "stream",
          "text": [
            "100%|██████████| 15625/15625 [00:36<00:00, 429.10it/s]\n",
            "100%|██████████| 2938/2938 [00:03<00:00, 940.28it/s]\n"
          ]
        },
        {
          "name": "stdout",
          "output_type": "stream",
          "text": [
            "Epoch 3, iter 15625, train_loss: 2.6174689074401853, train_acc: 0.4085928499698639, val_loss: 2.6415603606777176, val_acc: 0.41585981845855713\n"
          ]
        },
        {
          "name": "stderr",
          "output_type": "stream",
          "text": [
            "100%|██████████| 15625/15625 [00:36<00:00, 430.72it/s]\n",
            "100%|██████████| 2938/2938 [00:03<00:00, 945.37it/s]\n"
          ]
        },
        {
          "name": "stdout",
          "output_type": "stream",
          "text": [
            "Epoch 4, iter 15625, train_loss: 2.5845850464782716, train_acc: 0.41039684414863586, val_loss: 2.6318469067022376, val_acc: 0.41648757457733154\n"
          ]
        },
        {
          "name": "stderr",
          "output_type": "stream",
          "text": [
            "100%|██████████| 15625/15625 [00:35<00:00, 434.50it/s]\n",
            "100%|██████████| 2938/2938 [00:03<00:00, 949.76it/s]\n"
          ]
        },
        {
          "name": "stdout",
          "output_type": "stream",
          "text": [
            "Epoch 5, iter 15625, train_loss: 2.5607454963531495, train_acc: 0.4118848443031311, val_loss: 2.622080679528968, val_acc: 0.4185304343700409\n",
            "CURRENT X TRAIN SIZE: 748204\n",
            "23382 2938\n",
            "cuda\n"
          ]
        },
        {
          "name": "stderr",
          "output_type": "stream",
          "text": [
            "100%|██████████| 23382/23382 [00:54<00:00, 428.98it/s]\n",
            "100%|██████████| 2938/2938 [00:03<00:00, 939.92it/s]\n"
          ]
        },
        {
          "name": "stdout",
          "output_type": "stream",
          "text": [
            "Epoch 0, iter 23382, train_loss: 3.4390186057630365, train_acc: 0.3778720796108246, val_loss: 2.739773175885192, val_acc: 0.4117740988731384\n"
          ]
        },
        {
          "name": "stderr",
          "output_type": "stream",
          "text": [
            "100%|██████████| 23382/23382 [00:54<00:00, 431.83it/s]\n",
            "100%|██████████| 2938/2938 [00:03<00:00, 935.22it/s]\n"
          ]
        },
        {
          "name": "stdout",
          "output_type": "stream",
          "text": [
            "Epoch 1, iter 23382, train_loss: 2.685253822969703, train_acc: 0.41021257638931274, val_loss: 2.661380461481171, val_acc: 0.41411489248275757\n"
          ]
        },
        {
          "name": "stderr",
          "output_type": "stream",
          "text": [
            "100%|██████████| 23382/23382 [00:54<00:00, 432.12it/s]\n",
            "100%|██████████| 2938/2938 [00:03<00:00, 917.41it/s]\n"
          ]
        },
        {
          "name": "stdout",
          "output_type": "stream",
          "text": [
            "Epoch 2, iter 23382, train_loss: 2.6160633880500055, train_acc: 0.41355663537979126, val_loss: 2.6297747099415796, val_acc: 0.4150937497615814\n"
          ]
        },
        {
          "name": "stderr",
          "output_type": "stream",
          "text": [
            "100%|██████████| 23382/23382 [00:54<00:00, 431.24it/s]\n",
            "100%|██████████| 2938/2938 [00:03<00:00, 932.61it/s]\n"
          ]
        },
        {
          "name": "stdout",
          "output_type": "stream",
          "text": [
            "Epoch 3, iter 23382, train_loss: 2.5795071930975455, train_acc: 0.415997177362442, val_loss: 2.612159200555374, val_acc: 0.41892412304878235\n"
          ]
        },
        {
          "name": "stderr",
          "output_type": "stream",
          "text": [
            "100%|██████████| 23382/23382 [00:54<00:00, 430.25it/s]\n",
            "100%|██████████| 2938/2938 [00:03<00:00, 943.91it/s]\n"
          ]
        },
        {
          "name": "stdout",
          "output_type": "stream",
          "text": [
            "Epoch 4, iter 23382, train_loss: 2.554835349392742, train_acc: 0.4181917905807495, val_loss: 2.598817507047244, val_acc: 0.4203498661518097\n"
          ]
        },
        {
          "name": "stderr",
          "output_type": "stream",
          "text": [
            "100%|██████████| 23382/23382 [00:54<00:00, 432.69it/s]\n",
            "100%|██████████| 2938/2938 [00:03<00:00, 938.29it/s]"
          ]
        },
        {
          "name": "stdout",
          "output_type": "stream",
          "text": [
            "Epoch 5, iter 23382, train_loss: 2.5376367305946577, train_acc: 0.4194187521934509, val_loss: 2.586367281958958, val_acc: 0.42084991931915283\n"
          ]
        },
        {
          "name": "stderr",
          "output_type": "stream",
          "text": [
            "\n"
          ]
        }
      ],
      "source": [
        "import os\n",
        "import numpy as np\n",
        "import torch\n",
        "\n",
        "from models.transformer import BasicTransformer\n",
        "from train_utils import train\n",
        "\n",
        "val_df = df.query(\"dataset == 'val'\")\n",
        "X_val = np.lib.stride_tricks.sliding_window_view(val_df['action_token'].map(list(vocab).index), (n_prev_actions,))\n",
        "val_loader = torch.utils.data.DataLoader(\n",
        "    list(zip(X_val[:-1], X_val[1:, -1])),\n",
        "    batch_size = batch_size,\n",
        "    shuffle = True\n",
        ")\n",
        "\n",
        "train_df = df.query(\"dataset == 'train'\")\n",
        "\n",
        "x_train_sizes = [50000, 100000, 250000, 500000, len(train_df)]\n",
        "max_val_accs_dset = []\n",
        "for x_train_size in x_train_sizes:\n",
        "    print(f\"CURRENT X TRAIN SIZE: {x_train_size}\")\n",
        "    X_train = np.lib.stride_tricks.sliding_window_view(train_df['action_token'].map(list(vocab).index), (n_prev_actions,))\n",
        "    X_train = X_train[:x_train_size]\n",
        "    train_loader = torch.utils.data.DataLoader(\n",
        "        list(zip(X_train[:-1], X_train[1:, -1])),\n",
        "        batch_size = batch_size,\n",
        "        shuffle = True\n",
        "    )\n",
        "    print(len(train_loader), len(val_loader))\n",
        "\n",
        "    if torch.cuda.is_available():\n",
        "        device = torch.device(\"cuda\")\n",
        "    else:\n",
        "        device = torch.device(\"cpu\")\n",
        "    print(device)\n",
        "\n",
        "    model = BasicTransformer(len(vocab), 50, 2, 500, 1, 0.0).to(device=device)\n",
        "    #model = BasicTransformer(len(vocab), 50, 10, 100, 8, 0.0).to(device=device)\n",
        "\n",
        "    save_folder = f'checkpoints/dset_s_{x_train_size}'\n",
        "    os.mkdir(save_folder)\n",
        "\n",
        "    train_losses, train_accs, val_losses, val_accs = train(model, device, train_loader, val_loader, len(X_train[:-1]), len(X_val[:-1]), n_epochs=6, save_name=os.path.join(save_folder, f'model_dset_s_{x_train_size}'))\n",
        "    max_val_accs_dset.append(max(val_accs))"
      ]
    },
    {
      "cell_type": "code",
      "execution_count": 60,
      "metadata": {},
      "outputs": [
        {
          "name": "stderr",
          "output_type": "stream",
          "text": [
            "findfont: Font family 'normal' not found.\n",
            "findfont: Font family 'normal' not found.\n",
            "findfont: Font family 'normal' not found.\n",
            "findfont: Font family 'normal' not found.\n",
            "findfont: Font family 'normal' not found.\n",
            "findfont: Font family 'normal' not found.\n",
            "findfont: Font family 'normal' not found.\n",
            "findfont: Font family 'normal' not found.\n",
            "findfont: Font family 'normal' not found.\n",
            "findfont: Font family 'normal' not found.\n",
            "findfont: Font family 'normal' not found.\n",
            "findfont: Font family 'normal' not found.\n",
            "findfont: Font family 'normal' not found.\n",
            "findfont: Font family 'normal' not found.\n",
            "findfont: Font family 'normal' not found.\n",
            "findfont: Font family 'normal' not found.\n",
            "findfont: Font family 'normal' not found.\n",
            "findfont: Font family 'normal' not found.\n",
            "findfont: Font family 'normal' not found.\n",
            "findfont: Font family 'normal' not found.\n",
            "findfont: Font family 'normal' not found.\n",
            "findfont: Font family 'normal' not found.\n",
            "findfont: Font family 'normal' not found.\n",
            "findfont: Font family 'normal' not found.\n",
            "findfont: Font family 'normal' not found.\n",
            "findfont: Font family 'normal' not found.\n",
            "findfont: Font family 'normal' not found.\n",
            "findfont: Font family 'normal' not found.\n",
            "findfont: Font family 'normal' not found.\n",
            "findfont: Font family 'normal' not found.\n",
            "findfont: Font family 'normal' not found.\n",
            "findfont: Font family 'normal' not found.\n",
            "findfont: Font family 'normal' not found.\n",
            "findfont: Font family 'normal' not found.\n",
            "findfont: Font family 'normal' not found.\n",
            "findfont: Font family 'normal' not found.\n",
            "findfont: Font family 'normal' not found.\n",
            "findfont: Font family 'normal' not found.\n",
            "findfont: Font family 'normal' not found.\n",
            "findfont: Font family 'normal' not found.\n",
            "findfont: Font family 'normal' not found.\n",
            "findfont: Font family 'normal' not found.\n",
            "findfont: Font family 'normal' not found.\n",
            "findfont: Font family 'normal' not found.\n",
            "findfont: Font family 'normal' not found.\n",
            "findfont: Font family 'normal' not found.\n",
            "findfont: Font family 'normal' not found.\n",
            "findfont: Font family 'normal' not found.\n",
            "findfont: Font family 'normal' not found.\n",
            "findfont: Font family 'normal' not found.\n",
            "findfont: Font family 'normal' not found.\n",
            "findfont: Font family 'normal' not found.\n",
            "findfont: Font family 'normal' not found.\n",
            "findfont: Font family 'normal' not found.\n",
            "findfont: Font family 'normal' not found.\n",
            "findfont: Font family 'normal' not found.\n",
            "findfont: Font family 'normal' not found.\n",
            "findfont: Font family 'normal' not found.\n",
            "findfont: Font family 'normal' not found.\n",
            "findfont: Font family 'normal' not found.\n",
            "findfont: Font family 'normal' not found.\n",
            "findfont: Font family 'normal' not found.\n",
            "findfont: Font family 'normal' not found.\n",
            "findfont: Font family 'normal' not found.\n",
            "findfont: Font family 'normal' not found.\n",
            "findfont: Font family 'normal' not found.\n",
            "findfont: Font family 'normal' not found.\n",
            "findfont: Font family 'normal' not found.\n",
            "findfont: Font family 'normal' not found.\n",
            "findfont: Font family 'normal' not found.\n",
            "findfont: Font family 'normal' not found.\n",
            "findfont: Font family 'normal' not found.\n",
            "findfont: Font family 'normal' not found.\n",
            "findfont: Font family 'normal' not found.\n",
            "findfont: Font family 'normal' not found.\n",
            "findfont: Font family 'normal' not found.\n",
            "findfont: Font family 'normal' not found.\n",
            "findfont: Font family 'normal' not found.\n",
            "findfont: Font family 'normal' not found.\n",
            "findfont: Font family 'normal' not found.\n",
            "findfont: Font family 'normal' not found.\n",
            "findfont: Font family 'normal' not found.\n",
            "findfont: Font family 'normal' not found.\n",
            "findfont: Font family 'normal' not found.\n",
            "findfont: Font family 'normal' not found.\n",
            "findfont: Font family 'normal' not found.\n",
            "findfont: Font family 'normal' not found.\n",
            "findfont: Font family 'normal' not found.\n",
            "findfont: Font family 'normal' not found.\n",
            "findfont: Font family 'normal' not found.\n",
            "findfont: Font family 'normal' not found.\n",
            "findfont: Font family 'normal' not found.\n",
            "findfont: Font family 'normal' not found.\n",
            "findfont: Font family 'normal' not found.\n",
            "findfont: Font family 'normal' not found.\n",
            "findfont: Font family 'normal' not found.\n",
            "findfont: Font family 'normal' not found.\n",
            "findfont: Font family 'normal' not found.\n",
            "findfont: Font family 'normal' not found.\n",
            "findfont: Font family 'normal' not found.\n",
            "findfont: Font family 'normal' not found.\n",
            "findfont: Font family 'normal' not found.\n",
            "findfont: Font family 'normal' not found.\n"
          ]
        },
        {
          "data": {
            "image/png": "[encoded data removed]",
            "text/plain": [
              "<Figure size 640x480 with 1 Axes>"
            ]
          },
          "metadata": {},
          "output_type": "display_data"
        }
      ],
      "source": [
        "import matplotlib.pyplot as plt\n",
        "import matplotlib\n",
        "font = {'family': 'normal', 'weight': 'bold', 'size': 17}\n",
        "matplotlib.rc('font', **font)\n",
        "\n",
        "fig, ax = plt.subplots()\n",
        "ax.plot([x.cpu() for x in max_val_accs_dset],  marker='o', markersize=20, linestyle='--', color='purple', linewidth=5)\n",
        "ax.set_title(\"Dataset Size\")\n",
        "ax.set_xticks([0, 1, 2, 3, 4])\n",
        "ax.set_xticklabels(['50k', '100k', '250k', '500k', '750k'])\n",
        "ax.set_xlabel(\"Number of training examples\")\n",
        "ax.set_ylabel(\"Validation Accuracy\")\n",
        "plt.savefig(\"scaling_dset_size.png\", bbox_inches=\"tight\")"
      ]
    },
    {
      "cell_type": "code",
      "execution_count": null,
      "metadata": {},
      "outputs": [],
      "source": []
    },
    {
      "cell_type": "markdown",
      "metadata": {},
      "source": [
        "## Compare the effects of context size"
      ]
    },
    {
      "cell_type": "code",
      "execution_count": 33,
      "metadata": {
        "id": "MdcxBVpI0pMh"
      },
      "outputs": [
        {
          "name": "stderr",
          "output_type": "stream",
          "text": [
            "/home/daniel/miniconda3/envs/csc413/lib/python3.9/site-packages/torch/nn/modules/transformer.py:286: UserWarning: enable_nested_tensor is True, but self.use_nested_tensor is False because encoder_layer.self_attn.batch_first was not True(use batch_first for better inference performance)\n",
            "  warnings.warn(f\"enable_nested_tensor is True, but self.use_nested_tensor is False because {why_not_sparsity_fast_path}\")\n"
          ]
        },
        {
          "name": "stdout",
          "output_type": "stream",
          "text": [
            "CURRENT CONTEXT SIZE: 3\n",
            "cuda\n"
          ]
        },
        {
          "name": "stderr",
          "output_type": "stream",
          "text": [
            "100%|██████████| 23382/23382 [00:53<00:00, 437.00it/s]\n",
            "100%|██████████| 2938/2938 [00:03<00:00, 930.42it/s]\n"
          ]
        },
        {
          "name": "stdout",
          "output_type": "stream",
          "text": [
            "Epoch 0, iter 23382, train_loss: 3.457358320105444, train_acc: 0.37732911109924316, val_loss: 2.7457657472222254, val_acc: 0.41024768352508545\n"
          ]
        },
        {
          "name": "stderr",
          "output_type": "stream",
          "text": [
            "100%|██████████| 23382/23382 [00:53<00:00, 433.76it/s]\n",
            "100%|██████████| 2938/2938 [00:03<00:00, 948.41it/s]\n"
          ]
        },
        {
          "name": "stdout",
          "output_type": "stream",
          "text": [
            "Epoch 1, iter 23382, train_loss: 2.692946883576959, train_acc: 0.4099379777908325, val_loss: 2.6642868952575878, val_acc: 0.4135352075099945\n"
          ]
        },
        {
          "name": "stderr",
          "output_type": "stream",
          "text": [
            "100%|██████████| 23382/23382 [00:53<00:00, 437.31it/s]\n",
            "100%|██████████| 2938/2938 [00:03<00:00, 949.51it/s]\n"
          ]
        },
        {
          "name": "stdout",
          "output_type": "stream",
          "text": [
            "Epoch 2, iter 23382, train_loss: 2.6250179228276083, train_acc: 0.413086861371994, val_loss: 2.6344681646322377, val_acc: 0.4158226251602173\n"
          ]
        },
        {
          "name": "stderr",
          "output_type": "stream",
          "text": [
            "100%|██████████| 23382/23382 [00:53<00:00, 437.26it/s]\n",
            "100%|██████████| 2938/2938 [00:03<00:00, 930.85it/s]\n"
          ]
        },
        {
          "name": "stdout",
          "output_type": "stream",
          "text": [
            "Epoch 3, iter 23382, train_loss: 2.589477644450201, train_acc: 0.41500213742256165, val_loss: 2.6158391445002804, val_acc: 0.4173333942890167\n"
          ]
        },
        {
          "name": "stderr",
          "output_type": "stream",
          "text": [
            "100%|██████████| 23382/23382 [00:54<00:00, 431.18it/s]\n",
            "100%|██████████| 2938/2938 [00:03<00:00, 944.10it/s]\n"
          ]
        },
        {
          "name": "stdout",
          "output_type": "stream",
          "text": [
            "Epoch 4, iter 23382, train_loss: 2.567070326816535, train_acc: 0.41685324907302856, val_loss: 2.606836964963974, val_acc: 0.417471706867218\n"
          ]
        },
        {
          "name": "stderr",
          "output_type": "stream",
          "text": [
            "100%|██████████| 23382/23382 [00:53<00:00, 438.17it/s]\n",
            "100%|██████████| 2938/2938 [00:03<00:00, 947.02it/s]\n"
          ]
        },
        {
          "name": "stdout",
          "output_type": "stream",
          "text": [
            "Epoch 5, iter 23382, train_loss: 2.55189773538504, train_acc: 0.41815903782844543, val_loss: 2.600840377758927, val_acc: 0.4194718897342682\n",
            "CURRENT CONTEXT SIZE: 6\n",
            "cuda\n"
          ]
        },
        {
          "name": "stderr",
          "output_type": "stream",
          "text": [
            "100%|██████████| 23382/23382 [00:54<00:00, 431.83it/s]\n",
            "100%|██████████| 2938/2938 [00:03<00:00, 928.41it/s]\n"
          ]
        },
        {
          "name": "stdout",
          "output_type": "stream",
          "text": [
            "Epoch 0, iter 23382, train_loss: 3.4422448616971635, train_acc: 0.37824881076812744, val_loss: 2.7387944358883463, val_acc: 0.4111863970756531\n"
          ]
        },
        {
          "name": "stderr",
          "output_type": "stream",
          "text": [
            "100%|██████████| 23382/23382 [00:54<00:00, 431.91it/s]\n",
            "100%|██████████| 2938/2938 [00:03<00:00, 941.34it/s]\n"
          ]
        },
        {
          "name": "stdout",
          "output_type": "stream",
          "text": [
            "Epoch 1, iter 23382, train_loss: 2.688742622604383, train_acc: 0.4101080298423767, val_loss: 2.6602504997126823, val_acc: 0.414048433303833\n"
          ]
        },
        {
          "name": "stderr",
          "output_type": "stream",
          "text": [
            "100%|██████████| 23382/23382 [00:54<00:00, 431.54it/s]\n",
            "100%|██████████| 2938/2938 [00:03<00:00, 945.24it/s]\n"
          ]
        },
        {
          "name": "stdout",
          "output_type": "stream",
          "text": [
            "Epoch 2, iter 23382, train_loss: 2.620573006098106, train_acc: 0.4137100279331207, val_loss: 2.6320581026755683, val_acc: 0.4161231517791748\n"
          ]
        },
        {
          "name": "stderr",
          "output_type": "stream",
          "text": [
            "100%|██████████| 23382/23382 [00:53<00:00, 433.24it/s]\n",
            "100%|██████████| 2938/2938 [00:03<00:00, 922.01it/s]\n"
          ]
        },
        {
          "name": "stdout",
          "output_type": "stream",
          "text": [
            "Epoch 3, iter 23382, train_loss: 2.5844386332498606, train_acc: 0.4159313440322876, val_loss: 2.6125586638651876, val_acc: 0.4187617599964142\n"
          ]
        },
        {
          "name": "stderr",
          "output_type": "stream",
          "text": [
            "100%|██████████| 23382/23382 [00:54<00:00, 431.31it/s]\n",
            "100%|██████████| 2938/2938 [00:03<00:00, 937.93it/s]\n"
          ]
        },
        {
          "name": "stdout",
          "output_type": "stream",
          "text": [
            "Epoch 4, iter 23382, train_loss: 2.560530564036772, train_acc: 0.4183945953845978, val_loss: 2.6002598370395607, val_acc: 0.4196873903274536\n"
          ]
        },
        {
          "name": "stderr",
          "output_type": "stream",
          "text": [
            "100%|██████████| 23382/23382 [00:54<00:00, 429.96it/s]\n",
            "100%|██████████| 2938/2938 [00:03<00:00, 943.88it/s]\n"
          ]
        },
        {
          "name": "stdout",
          "output_type": "stream",
          "text": [
            "Epoch 5, iter 23382, train_loss: 2.5440404452960266, train_acc: 0.4195266664028168, val_loss: 2.5927895330262882, val_acc: 0.4205811321735382\n",
            "CURRENT CONTEXT SIZE: 9\n",
            "cuda\n"
          ]
        },
        {
          "name": "stderr",
          "output_type": "stream",
          "text": [
            "100%|██████████| 23382/23382 [00:54<00:00, 427.29it/s]\n",
            "100%|██████████| 2938/2938 [00:03<00:00, 929.93it/s]\n"
          ]
        },
        {
          "name": "stdout",
          "output_type": "stream",
          "text": [
            "Epoch 0, iter 23382, train_loss: 3.4455833798060107, train_acc: 0.37852299213409424, val_loss: 2.7443734404686118, val_acc: 0.41014620661735535\n"
          ]
        },
        {
          "name": "stderr",
          "output_type": "stream",
          "text": [
            "100%|██████████| 23382/23382 [00:54<00:00, 427.58it/s]\n",
            "100%|██████████| 2938/2938 [00:03<00:00, 944.19it/s]\n"
          ]
        },
        {
          "name": "stdout",
          "output_type": "stream",
          "text": [
            "Epoch 1, iter 23382, train_loss: 2.6886826247912397, train_acc: 0.4100802540779114, val_loss: 2.6598472611444834, val_acc: 0.41466814279556274\n"
          ]
        },
        {
          "name": "stderr",
          "output_type": "stream",
          "text": [
            "100%|██████████| 23382/23382 [00:54<00:00, 425.61it/s]\n",
            "100%|██████████| 2938/2938 [00:03<00:00, 912.58it/s]\n"
          ]
        },
        {
          "name": "stdout",
          "output_type": "stream",
          "text": [
            "Epoch 2, iter 23382, train_loss: 2.6175000295903335, train_acc: 0.4137932062149048, val_loss: 2.624196056040718, val_acc: 0.41617903113365173\n"
          ]
        },
        {
          "name": "stderr",
          "output_type": "stream",
          "text": [
            "100%|██████████| 23382/23382 [00:54<00:00, 429.22it/s]\n",
            "100%|██████████| 2938/2938 [00:03<00:00, 931.63it/s]\n"
          ]
        },
        {
          "name": "stdout",
          "output_type": "stream",
          "text": [
            "Epoch 3, iter 23382, train_loss: 2.580893581059968, train_acc: 0.41603460907936096, val_loss: 2.608821429083995, val_acc: 0.4191794693470001\n"
          ]
        },
        {
          "name": "stderr",
          "output_type": "stream",
          "text": [
            "100%|██████████| 23382/23382 [00:54<00:00, 431.93it/s]\n",
            "100%|██████████| 2938/2938 [00:03<00:00, 945.09it/s]\n"
          ]
        },
        {
          "name": "stdout",
          "output_type": "stream",
          "text": [
            "Epoch 4, iter 23382, train_loss: 2.5571789560168305, train_acc: 0.4175261855125427, val_loss: 2.597517890253385, val_acc: 0.4205094575881958\n"
          ]
        },
        {
          "name": "stderr",
          "output_type": "stream",
          "text": [
            "100%|██████████| 23382/23382 [00:54<00:00, 430.25it/s]\n",
            "100%|██████████| 2938/2938 [00:03<00:00, 909.16it/s]\n"
          ]
        },
        {
          "name": "stdout",
          "output_type": "stream",
          "text": [
            "Epoch 5, iter 23382, train_loss: 2.5398250715979946, train_acc: 0.419437438249588, val_loss: 2.586401845988487, val_acc: 0.420211523771286\n",
            "CURRENT CONTEXT SIZE: 12\n",
            "cuda\n"
          ]
        },
        {
          "name": "stderr",
          "output_type": "stream",
          "text": [
            "100%|██████████| 23381/23381 [00:54<00:00, 427.61it/s]\n",
            "100%|██████████| 2937/2937 [00:03<00:00, 915.36it/s]\n"
          ]
        },
        {
          "name": "stdout",
          "output_type": "stream",
          "text": [
            "Epoch 0, iter 23381, train_loss: 3.438610158261922, train_acc: 0.37874636054039, val_loss: 2.7441485551980875, val_acc: 0.4104252755641937\n"
          ]
        },
        {
          "name": "stderr",
          "output_type": "stream",
          "text": [
            "100%|██████████| 23381/23381 [00:54<00:00, 428.61it/s]\n",
            "100%|██████████| 2937/2937 [00:03<00:00, 936.20it/s]\n"
          ]
        },
        {
          "name": "stdout",
          "output_type": "stream",
          "text": [
            "Epoch 1, iter 23381, train_loss: 2.689311320290921, train_acc: 0.4103144705295563, val_loss: 2.659112210699113, val_acc: 0.41461753845214844\n"
          ]
        },
        {
          "name": "stderr",
          "output_type": "stream",
          "text": [
            "100%|██████████| 23381/23381 [00:54<00:00, 427.53it/s]\n",
            "100%|██████████| 2937/2937 [00:03<00:00, 918.39it/s]\n"
          ]
        },
        {
          "name": "stdout",
          "output_type": "stream",
          "text": [
            "Epoch 2, iter 23381, train_loss: 2.6189467230526753, train_acc: 0.4136398136615753, val_loss: 2.6281502091401605, val_acc: 0.4161284565925598\n"
          ]
        },
        {
          "name": "stderr",
          "output_type": "stream",
          "text": [
            "100%|██████████| 23381/23381 [00:55<00:00, 424.61it/s]\n",
            "100%|██████████| 2937/2937 [00:03<00:00, 911.56it/s]\n"
          ]
        },
        {
          "name": "stdout",
          "output_type": "stream",
          "text": [
            "Epoch 3, iter 23381, train_loss: 2.5800743679775766, train_acc: 0.41621133685112, val_loss: 2.6082758030844335, val_acc: 0.41894811391830444\n"
          ]
        },
        {
          "name": "stderr",
          "output_type": "stream",
          "text": [
            "100%|██████████| 23381/23381 [00:55<00:00, 424.29it/s]\n",
            "100%|██████████| 2937/2937 [00:03<00:00, 934.11it/s]\n"
          ]
        },
        {
          "name": "stdout",
          "output_type": "stream",
          "text": [
            "Epoch 4, iter 23381, train_loss: 2.556243691451127, train_acc: 0.4178486168384552, val_loss: 2.5945916408416076, val_acc: 0.4195120334625244\n"
          ]
        },
        {
          "name": "stderr",
          "output_type": "stream",
          "text": [
            "100%|██████████| 23381/23381 [00:55<00:00, 421.69it/s]\n",
            "100%|██████████| 2937/2937 [00:03<00:00, 913.12it/s]"
          ]
        },
        {
          "name": "stdout",
          "output_type": "stream",
          "text": [
            "Epoch 5, iter 23381, train_loss: 2.5378266583378815, train_acc: 0.41913706064224243, val_loss: 2.586115050283386, val_acc: 0.4202462136745453\n"
          ]
        },
        {
          "name": "stderr",
          "output_type": "stream",
          "text": [
            "\n"
          ]
        }
      ],
      "source": [
        "train_df = df.query(\"dataset == 'train'\")\n",
        "val_df = df.query(\"dataset == 'val'\")\n",
        "\n",
        "context_sizes = [3, 6, 9, 12]\n",
        "max_val_accs_ctx = []\n",
        "for context_size in context_sizes:\n",
        "    print(f\"CURRENT CONTEXT SIZE: {context_size}\")\n",
        "    X_train = np.lib.stride_tricks.sliding_window_view(train_df['action_token'].map(list(vocab).index), (context_size,))\n",
        "    train_loader = torch.utils.data.DataLoader(\n",
        "        list(zip(X_train[:-1], X_train[1:, -1])),\n",
        "        batch_size = batch_size,\n",
        "        shuffle = True\n",
        "    )\n",
        "    \n",
        "    X_val = np.lib.stride_tricks.sliding_window_view(val_df['action_token'].map(list(vocab).index), (context_size,))\n",
        "    val_loader = torch.utils.data.DataLoader(\n",
        "        list(zip(X_val[:-1], X_val[1:, -1])),\n",
        "        batch_size = batch_size,\n",
        "        shuffle = True\n",
        "    )\n",
        "\n",
        "    if torch.cuda.is_available():\n",
        "        device = torch.device(\"cuda\")\n",
        "    else:\n",
        "        device = torch.device(\"cpu\")\n",
        "    print(device)\n",
        "\n",
        "    model = BasicTransformer(len(vocab), 50, 2, 500, 1, 0.0).to(device=device)\n",
        "    #model = BasicTransformer(len(vocab), 50, 10, 100, 8, 0.0).to(device=device)\n",
        "\n",
        "    save_folder = f'checkpoints/ctx_s_{context_size}'\n",
        "    os.mkdir(save_folder)\n",
        "\n",
        "    train_losses, train_accs, val_losses, val_accs = train(model, device, train_loader, val_loader, len(X_train[:-1]), len(X_val[:-1]), n_epochs=6, save_name=os.path.join(save_folder, f'model_ctx_s_{context_size}'))\n",
        "    max_val_accs_ctx.append(max(val_accs))"
      ]
    },
    {
      "cell_type": "code",
      "execution_count": 34,
      "metadata": {},
      "outputs": [
        {
          "data": {
            "text/plain": [
              "[tensor(0.4195, device='cuda:0'),\n",
              " tensor(0.4206, device='cuda:0'),\n",
              " tensor(0.4205, device='cuda:0'),\n",
              " tensor(0.4202, device='cuda:0')]"
            ]
          },
          "execution_count": 34,
          "metadata": {},
          "output_type": "execute_result"
        }
      ],
      "source": [
        "max_val_accs"
      ]
    },
    {
      "cell_type": "code",
      "execution_count": null,
      "metadata": {},
      "outputs": [],
      "source": [
        "# max_val_accs = [tensor(0.4195, device='cuda:0'),\n",
        "#  tensor(0.4206, device='cuda:0'),\n",
        "#  tensor(0.4205, device='cuda:0'),\n",
        "#  tensor(0.4202, device='cuda:0')]"
      ]
    },
    {
      "cell_type": "code",
      "execution_count": 56,
      "metadata": {},
      "outputs": [
        {
          "name": "stderr",
          "output_type": "stream",
          "text": [
            "findfont: Font family 'normal' not found.\n",
            "findfont: Font family 'normal' not found.\n",
            "findfont: Font family 'normal' not found.\n",
            "findfont: Font family 'normal' not found.\n",
            "findfont: Font family 'normal' not found.\n",
            "findfont: Font family 'normal' not found.\n",
            "findfont: Font family 'normal' not found.\n",
            "findfont: Font family 'normal' not found.\n",
            "findfont: Font family 'normal' not found.\n",
            "findfont: Font family 'normal' not found.\n",
            "findfont: Font family 'normal' not found.\n",
            "findfont: Font family 'normal' not found.\n",
            "findfont: Font family 'normal' not found.\n",
            "findfont: Font family 'normal' not found.\n",
            "findfont: Font family 'normal' not found.\n",
            "findfont: Font family 'normal' not found.\n",
            "findfont: Font family 'normal' not found.\n",
            "findfont: Font family 'normal' not found.\n",
            "findfont: Font family 'normal' not found.\n",
            "findfont: Font family 'normal' not found.\n",
            "findfont: Font family 'normal' not found.\n",
            "findfont: Font family 'normal' not found.\n",
            "findfont: Font family 'normal' not found.\n",
            "findfont: Font family 'normal' not found.\n",
            "findfont: Font family 'normal' not found.\n",
            "findfont: Font family 'normal' not found.\n",
            "findfont: Font family 'normal' not found.\n",
            "findfont: Font family 'normal' not found.\n",
            "findfont: Font family 'normal' not found.\n",
            "findfont: Font family 'normal' not found.\n",
            "findfont: Font family 'normal' not found.\n",
            "findfont: Font family 'normal' not found.\n",
            "findfont: Font family 'normal' not found.\n",
            "findfont: Font family 'normal' not found.\n",
            "findfont: Font family 'normal' not found.\n",
            "findfont: Font family 'normal' not found.\n",
            "findfont: Font family 'normal' not found.\n",
            "findfont: Font family 'normal' not found.\n",
            "findfont: Font family 'normal' not found.\n",
            "findfont: Font family 'normal' not found.\n",
            "findfont: Font family 'normal' not found.\n",
            "findfont: Font family 'normal' not found.\n",
            "findfont: Font family 'normal' not found.\n",
            "findfont: Font family 'normal' not found.\n",
            "findfont: Font family 'normal' not found.\n",
            "findfont: Font family 'normal' not found.\n",
            "findfont: Font family 'normal' not found.\n",
            "findfont: Font family 'normal' not found.\n",
            "findfont: Font family 'normal' not found.\n",
            "findfont: Font family 'normal' not found.\n",
            "findfont: Font family 'normal' not found.\n",
            "findfont: Font family 'normal' not found.\n",
            "findfont: Font family 'normal' not found.\n",
            "findfont: Font family 'normal' not found.\n",
            "findfont: Font family 'normal' not found.\n",
            "findfont: Font family 'normal' not found.\n",
            "findfont: Font family 'normal' not found.\n",
            "findfont: Font family 'normal' not found.\n",
            "findfont: Font family 'normal' not found.\n",
            "findfont: Font family 'normal' not found.\n",
            "findfont: Font family 'normal' not found.\n",
            "findfont: Font family 'normal' not found.\n",
            "findfont: Font family 'normal' not found.\n",
            "findfont: Font family 'normal' not found.\n",
            "findfont: Font family 'normal' not found.\n",
            "findfont: Font family 'normal' not found.\n",
            "findfont: Font family 'normal' not found.\n",
            "findfont: Font family 'normal' not found.\n",
            "findfont: Font family 'normal' not found.\n",
            "findfont: Font family 'normal' not found.\n",
            "findfont: Font family 'normal' not found.\n",
            "findfont: Font family 'normal' not found.\n",
            "findfont: Font family 'normal' not found.\n",
            "findfont: Font family 'normal' not found.\n",
            "findfont: Font family 'normal' not found.\n",
            "findfont: Font family 'normal' not found.\n",
            "findfont: Font family 'normal' not found.\n",
            "findfont: Font family 'normal' not found.\n",
            "findfont: Font family 'normal' not found.\n",
            "findfont: Font family 'normal' not found.\n",
            "findfont: Font family 'normal' not found.\n",
            "findfont: Font family 'normal' not found.\n",
            "findfont: Font family 'normal' not found.\n",
            "findfont: Font family 'normal' not found.\n",
            "findfont: Font family 'normal' not found.\n",
            "findfont: Font family 'normal' not found.\n",
            "findfont: Font family 'normal' not found.\n",
            "findfont: Font family 'normal' not found.\n",
            "findfont: Font family 'normal' not found.\n",
            "findfont: Font family 'normal' not found.\n",
            "findfont: Font family 'normal' not found.\n",
            "findfont: Font family 'normal' not found.\n",
            "findfont: Font family 'normal' not found.\n",
            "findfont: Font family 'normal' not found.\n",
            "findfont: Font family 'normal' not found.\n",
            "findfont: Font family 'normal' not found.\n",
            "findfont: Font family 'normal' not found.\n",
            "findfont: Font family 'normal' not found.\n",
            "findfont: Font family 'normal' not found.\n",
            "findfont: Font family 'normal' not found.\n",
            "findfont: Font family 'normal' not found.\n",
            "findfont: Font family 'normal' not found.\n",
            "findfont: Font family 'normal' not found.\n"
          ]
        },
        {
          "data": {
            "image/png": "[encoded data removed]",
            "text/plain": [
              "<Figure size 640x480 with 1 Axes>"
            ]
          },
          "metadata": {},
          "output_type": "display_data"
        }
      ],
      "source": [
        "import matplotlib.pyplot as plt\n",
        "import matplotlib\n",
        "font = {'family': 'normal', 'weight': 'bold', 'size': 17}\n",
        "matplotlib.rc('font', **font)\n",
        "\n",
        "fig, ax = plt.subplots()\n",
        "ax.plot([x.cpu() for x in max_val_accs], marker='o', markersize=20, linestyle='--', color='purple', linewidth=5)\n",
        "ax.set_title(\"Context Size\")\n",
        "ax.set_xticks([0, 1, 2, 3])\n",
        "ax.set_xticklabels(['3', '6', '9', '12'])\n",
        "ax.set_xlabel(\"Number of actions\")\n",
        "ax.set_ylabel(\"Validation Accuracy\")\n",
        "plt.savefig(\"scaling_ctx.png\", bbox_inches=\"tight\")"
      ]
    },
    {
      "cell_type": "markdown",
      "metadata": {},
      "source": [
        "## Compare the effects of number of parameters"
      ]
    },
    {
      "cell_type": "code",
      "execution_count": 38,
      "metadata": {},
      "outputs": [
        {
          "name": "stderr",
          "output_type": "stream",
          "text": [
            "/home/daniel/miniconda3/envs/csc413/lib/python3.9/site-packages/torch/nn/modules/transformer.py:286: UserWarning: enable_nested_tensor is True, but self.use_nested_tensor is False because encoder_layer.self_attn.batch_first was not True(use batch_first for better inference performance)\n",
            "  warnings.warn(f\"enable_nested_tensor is True, but self.use_nested_tensor is False because {why_not_sparsity_fast_path}\")\n"
          ]
        },
        {
          "name": "stdout",
          "output_type": "stream",
          "text": [
            "cuda\n",
            "CURRENT Params: [(2, 1), (5, 2), (5, 4), (10, 8)] 365565\n"
          ]
        },
        {
          "name": "stderr",
          "output_type": "stream",
          "text": [
            "100%|██████████| 23381/23381 [00:54<00:00, 427.92it/s]\n",
            "100%|██████████| 2937/2937 [00:03<00:00, 913.09it/s]\n"
          ]
        },
        {
          "name": "stdout",
          "output_type": "stream",
          "text": [
            "Epoch 0, iter 23381, train_loss: 3.4355744374409687, train_acc: 0.37911659479141235, val_loss: 2.742658957641142, val_acc: 0.41077640652656555\n"
          ]
        },
        {
          "name": "stderr",
          "output_type": "stream",
          "text": [
            "100%|██████████| 23381/23381 [00:54<00:00, 425.90it/s]\n",
            "100%|██████████| 2937/2937 [00:03<00:00, 935.70it/s]\n"
          ]
        },
        {
          "name": "stdout",
          "output_type": "stream",
          "text": [
            "Epoch 1, iter 23381, train_loss: 2.6896981340005093, train_acc: 0.4100992679595947, val_loss: 2.6672692982810347, val_acc: 0.4153410792350769\n"
          ]
        },
        {
          "name": "stderr",
          "output_type": "stream",
          "text": [
            "100%|██████████| 23381/23381 [00:55<00:00, 423.92it/s]\n",
            "100%|██████████| 2937/2937 [00:03<00:00, 941.04it/s]\n"
          ]
        },
        {
          "name": "stdout",
          "output_type": "stream",
          "text": [
            "Epoch 2, iter 23381, train_loss: 2.620472378596376, train_acc: 0.4137895107269287, val_loss: 2.626887312380278, val_acc: 0.4172030985355377\n"
          ]
        },
        {
          "name": "stderr",
          "output_type": "stream",
          "text": [
            "100%|██████████| 23381/23381 [00:54<00:00, 427.38it/s]\n",
            "100%|██████████| 2937/2937 [00:03<00:00, 948.97it/s]\n"
          ]
        },
        {
          "name": "stdout",
          "output_type": "stream",
          "text": [
            "Epoch 3, iter 23381, train_loss: 2.5813286531308544, train_acc: 0.4163396656513214, val_loss: 2.6069870382334286, val_acc: 0.4188629984855652\n"
          ]
        },
        {
          "name": "stderr",
          "output_type": "stream",
          "text": [
            "100%|██████████| 23381/23381 [00:55<00:00, 424.89it/s]\n",
            "100%|██████████| 2937/2937 [00:03<00:00, 924.41it/s]\n"
          ]
        },
        {
          "name": "stdout",
          "output_type": "stream",
          "text": [
            "Epoch 4, iter 23381, train_loss: 2.555471149131692, train_acc: 0.4177764654159546, val_loss: 2.594432759252502, val_acc: 0.420395165681839\n"
          ]
        },
        {
          "name": "stderr",
          "output_type": "stream",
          "text": [
            "100%|██████████| 23381/23381 [00:54<00:00, 428.90it/s]\n",
            "100%|██████████| 2937/2937 [00:03<00:00, 912.02it/s]\n"
          ]
        },
        {
          "name": "stdout",
          "output_type": "stream",
          "text": [
            "Epoch 5, iter 23381, train_loss: 2.5369357725627752, train_acc: 0.4189593195915222, val_loss: 2.587264473883928, val_acc: 0.4201398193836212\n",
            "cuda\n",
            "CURRENT Params: [(2, 1), (5, 2), (5, 4), (10, 8)] 426515\n"
          ]
        },
        {
          "name": "stderr",
          "output_type": "stream",
          "text": [
            "100%|██████████| 23381/23381 [01:25<00:00, 274.39it/s]\n",
            "100%|██████████| 2937/2937 [00:04<00:00, 659.49it/s]\n"
          ]
        },
        {
          "name": "stdout",
          "output_type": "stream",
          "text": [
            "Epoch 0, iter 23381, train_loss: 3.4638903341547853, train_acc: 0.3769152760505676, val_loss: 2.744785602700763, val_acc: 0.41234052181243896\n"
          ]
        },
        {
          "name": "stderr",
          "output_type": "stream",
          "text": [
            "100%|██████████| 23381/23381 [01:25<00:00, 274.24it/s]\n",
            "100%|██████████| 2937/2937 [00:04<00:00, 684.03it/s]\n"
          ]
        },
        {
          "name": "stdout",
          "output_type": "stream",
          "text": [
            "Epoch 1, iter 23381, train_loss: 2.693166040343279, train_acc: 0.4099937081336975, val_loss: 2.6557195529184416, val_acc: 0.41570284962654114\n"
          ]
        },
        {
          "name": "stderr",
          "output_type": "stream",
          "text": [
            "100%|██████████| 23381/23381 [01:25<00:00, 274.59it/s]\n",
            "100%|██████████| 2937/2937 [00:04<00:00, 654.89it/s]\n"
          ]
        },
        {
          "name": "stdout",
          "output_type": "stream",
          "text": [
            "Epoch 2, iter 23381, train_loss: 2.6127494091983734, train_acc: 0.4145406484603882, val_loss: 2.614716820502549, val_acc: 0.4184373915195465\n"
          ]
        },
        {
          "name": "stderr",
          "output_type": "stream",
          "text": [
            "100%|██████████| 23381/23381 [01:24<00:00, 276.11it/s]\n",
            "100%|██████████| 2937/2937 [00:04<00:00, 663.87it/s]\n"
          ]
        },
        {
          "name": "stdout",
          "output_type": "stream",
          "text": [
            "Epoch 3, iter 23381, train_loss: 2.5676705838983263, train_acc: 0.41750645637512207, val_loss: 2.5898994836914406, val_acc: 0.4207569360733032\n"
          ]
        },
        {
          "name": "stderr",
          "output_type": "stream",
          "text": [
            "100%|██████████| 23381/23381 [01:25<00:00, 273.87it/s]\n",
            "100%|██████████| 2937/2937 [00:04<00:00, 656.98it/s]\n"
          ]
        },
        {
          "name": "stdout",
          "output_type": "stream",
          "text": [
            "Epoch 4, iter 23381, train_loss: 2.5387892091576605, train_acc: 0.419808030128479, val_loss: 2.585933966136604, val_acc: 0.420725017786026\n"
          ]
        },
        {
          "name": "stderr",
          "output_type": "stream",
          "text": [
            "100%|██████████| 23381/23381 [01:25<00:00, 274.25it/s]\n",
            "100%|██████████| 2937/2937 [00:04<00:00, 667.12it/s]\n"
          ]
        },
        {
          "name": "stdout",
          "output_type": "stream",
          "text": [
            "Epoch 5, iter 23381, train_loss: 2.5184462152449836, train_acc: 0.42147737741470337, val_loss: 2.572356293913374, val_acc: 0.42194864153862\n",
            "cuda\n",
            "CURRENT Params: [(2, 1), (5, 2), (5, 4), (10, 8)] 548415\n"
          ]
        },
        {
          "name": "stderr",
          "output_type": "stream",
          "text": [
            "100%|██████████| 23381/23381 [02:26<00:00, 160.01it/s]\n",
            "100%|██████████| 2937/2937 [00:06<00:00, 438.65it/s]\n"
          ]
        },
        {
          "name": "stdout",
          "output_type": "stream",
          "text": [
            "Epoch 0, iter 23381, train_loss: 3.4916798525709862, train_acc: 0.3721838891506195, val_loss: 2.7617921288175, val_acc: 0.40879732370376587\n"
          ]
        },
        {
          "name": "stderr",
          "output_type": "stream",
          "text": [
            "100%|██████████| 23381/23381 [02:23<00:00, 162.61it/s]\n",
            "100%|██████████| 2937/2937 [00:06<00:00, 438.19it/s]\n"
          ]
        },
        {
          "name": "stdout",
          "output_type": "stream",
          "text": [
            "Epoch 1, iter 23381, train_loss: 2.7082033270842443, train_acc: 0.40905678272247314, val_loss: 2.6615407584190045, val_acc: 0.4150218665599823\n"
          ]
        },
        {
          "name": "stderr",
          "output_type": "stream",
          "text": [
            "100%|██████████| 23381/23381 [02:25<00:00, 160.92it/s]\n",
            "100%|██████████| 2937/2937 [00:06<00:00, 423.86it/s]\n"
          ]
        },
        {
          "name": "stdout",
          "output_type": "stream",
          "text": [
            "Epoch 2, iter 23381, train_loss: 2.621611062620047, train_acc: 0.4136277735233307, val_loss: 2.6172599933323584, val_acc: 0.41833096742630005\n"
          ]
        },
        {
          "name": "stderr",
          "output_type": "stream",
          "text": [
            "100%|██████████| 23381/23381 [02:24<00:00, 161.31it/s]\n",
            "100%|██████████| 2937/2937 [00:06<00:00, 427.58it/s]\n"
          ]
        },
        {
          "name": "stdout",
          "output_type": "stream",
          "text": [
            "Epoch 3, iter 23381, train_loss: 2.5727543955072356, train_acc: 0.4169384241104126, val_loss: 2.5924102535936187, val_acc: 0.42005470395088196\n"
          ]
        },
        {
          "name": "stderr",
          "output_type": "stream",
          "text": [
            "100%|██████████| 23381/23381 [02:24<00:00, 161.37it/s]\n",
            "100%|██████████| 2937/2937 [00:06<00:00, 439.89it/s]\n"
          ]
        },
        {
          "name": "stdout",
          "output_type": "stream",
          "text": [
            "Epoch 4, iter 23381, train_loss: 2.540667770202684, train_acc: 0.41957277059555054, val_loss: 2.5781903348896105, val_acc: 0.42099103331565857\n"
          ]
        },
        {
          "name": "stderr",
          "output_type": "stream",
          "text": [
            "100%|██████████| 23381/23381 [02:26<00:00, 159.84it/s]\n",
            "100%|██████████| 2937/2937 [00:06<00:00, 431.13it/s]\n"
          ]
        },
        {
          "name": "stdout",
          "output_type": "stream",
          "text": [
            "Epoch 5, iter 23381, train_loss: 2.5175869466148906, train_acc: 0.4217246472835541, val_loss: 2.5665103313993507, val_acc: 0.4225977063179016\n",
            "cuda\n",
            "CURRENT Params: [(2, 1), (5, 2), (5, 4), (10, 8)] 792215\n"
          ]
        },
        {
          "name": "stderr",
          "output_type": "stream",
          "text": [
            "100%|██████████| 23381/23381 [04:04<00:00, 95.82it/s] \n",
            "100%|██████████| 2937/2937 [00:11<00:00, 255.54it/s]\n"
          ]
        },
        {
          "name": "stdout",
          "output_type": "stream",
          "text": [
            "Epoch 0, iter 23381, train_loss: 3.699819935254772, train_acc: 0.3483169972896576, val_loss: 2.792076503130543, val_acc: 0.40785035490989685\n"
          ]
        },
        {
          "name": "stderr",
          "output_type": "stream",
          "text": [
            "100%|██████████| 23381/23381 [04:17<00:00, 90.72it/s] \n",
            "100%|██████████| 2937/2937 [00:11<00:00, 252.07it/s]\n"
          ]
        },
        {
          "name": "stdout",
          "output_type": "stream",
          "text": [
            "Epoch 1, iter 23381, train_loss: 2.7482456384847826, train_acc: 0.40628206729888916, val_loss: 2.679636039983914, val_acc: 0.4133619964122772\n"
          ]
        },
        {
          "name": "stderr",
          "output_type": "stream",
          "text": [
            "100%|██████████| 23381/23381 [04:07<00:00, 94.65it/s] \n",
            "100%|██████████| 2937/2937 [00:11<00:00, 248.86it/s]\n"
          ]
        },
        {
          "name": "stdout",
          "output_type": "stream",
          "text": [
            "Epoch 2, iter 23381, train_loss: 2.6506178411179726, train_acc: 0.4126039743423462, val_loss: 2.6284567898213558, val_acc: 0.41728824377059937\n"
          ]
        },
        {
          "name": "stderr",
          "output_type": "stream",
          "text": [
            "100%|██████████| 23381/23381 [04:13<00:00, 92.33it/s] \n",
            "100%|██████████| 2937/2937 [00:11<00:00, 256.68it/s]\n"
          ]
        },
        {
          "name": "stdout",
          "output_type": "stream",
          "text": [
            "Epoch 3, iter 23381, train_loss: 2.5957526907501327, train_acc: 0.41572216153144836, val_loss: 2.5994633087951144, val_acc: 0.4190013110637665\n"
          ]
        },
        {
          "name": "stderr",
          "output_type": "stream",
          "text": [
            "100%|██████████| 23381/23381 [04:08<00:00, 94.00it/s] \n",
            "100%|██████████| 2937/2937 [00:11<00:00, 254.89it/s]\n"
          ]
        },
        {
          "name": "stdout",
          "output_type": "stream",
          "text": [
            "Epoch 4, iter 23381, train_loss: 2.557531666686336, train_acc: 0.41881629824638367, val_loss: 2.583050949580823, val_acc: 0.42188480496406555\n"
          ]
        },
        {
          "name": "stderr",
          "output_type": "stream",
          "text": [
            "100%|██████████| 23381/23381 [04:01<00:00, 97.02it/s] \n",
            "100%|██████████| 2937/2937 [00:11<00:00, 252.43it/s]"
          ]
        },
        {
          "name": "stdout",
          "output_type": "stream",
          "text": [
            "Epoch 5, iter 23381, train_loss: 2.5304134035838546, train_acc: 0.4205898940563202, val_loss: 2.567770136429576, val_acc: 0.41940563917160034\n"
          ]
        },
        {
          "name": "stderr",
          "output_type": "stream",
          "text": [
            "\n"
          ]
        }
      ],
      "source": [
        "train_df = df.query(\"dataset == 'train'\")\n",
        "val_df = df.query(\"dataset == 'val'\")\n",
        "\n",
        "X_train = np.lib.stride_tricks.sliding_window_view(train_df['action_token'].map(list(vocab).index), (context_size,))\n",
        "train_loader = torch.utils.data.DataLoader(\n",
        "    list(zip(X_train[:-1], X_train[1:, -1])),\n",
        "    batch_size = batch_size,\n",
        "    shuffle = True\n",
        ")\n",
        "\n",
        "X_val = np.lib.stride_tricks.sliding_window_view(val_df['action_token'].map(list(vocab).index), (context_size,))\n",
        "val_loader = torch.utils.data.DataLoader(\n",
        "    list(zip(X_val[:-1], X_val[1:, -1])),\n",
        "    batch_size = batch_size,\n",
        "    shuffle = True\n",
        ")\n",
        "\n",
        "\n",
        "params = [(2, 1), (5, 2), (5, 4), (10, 8)]\n",
        "total_params = []\n",
        "max_val_accs_params = []\n",
        "for param in params:\n",
        "    if torch.cuda.is_available():\n",
        "        device = torch.device(\"cuda\")\n",
        "    else:\n",
        "        device = torch.device(\"cpu\")\n",
        "    print(device)\n",
        "\n",
        "    model = BasicTransformer(len(vocab), 50, param[0], 500, param[1], 0.0).to(device=device)\n",
        "    cur_param_num = sum(p.numel() for p in model.parameters())\n",
        "    total_params.append(cur_param_num)\n",
        "    print(f\"CURRENT Params: {params} {cur_param_num}\")\n",
        "    #model = BasicTransformer(len(vocab), 50, 10, 100, 8, 0.0).to(device=device)\n",
        "\n",
        "    save_folder = f'checkpoints/params_s_{total_params}'\n",
        "    os.mkdir(save_folder)\n",
        "\n",
        "    train_losses, train_accs, val_losses, val_accs = train(model, device, train_loader, val_loader, len(X_train[:-1]), len(X_val[:-1]), n_epochs=6, save_name=os.path.join(save_folder, f'model_param_s_{total_params}'))\n",
        "    max_val_accs_params.append(max(val_accs))"
      ]
    },
    {
      "cell_type": "code",
      "execution_count": 53,
      "metadata": {},
      "outputs": [
        {
          "name": "stderr",
          "output_type": "stream",
          "text": [
            "findfont: Font family 'normal' not found.\n",
            "findfont: Font family 'normal' not found.\n",
            "findfont: Font family 'normal' not found.\n",
            "findfont: Font family 'normal' not found.\n",
            "findfont: Font family 'normal' not found.\n",
            "findfont: Font family 'normal' not found.\n",
            "findfont: Font family 'normal' not found.\n",
            "findfont: Font family 'normal' not found.\n",
            "findfont: Font family 'normal' not found.\n",
            "findfont: Font family 'normal' not found.\n",
            "findfont: Font family 'normal' not found.\n",
            "findfont: Font family 'normal' not found.\n",
            "findfont: Font family 'normal' not found.\n",
            "findfont: Font family 'normal' not found.\n",
            "findfont: Font family 'normal' not found.\n",
            "findfont: Font family 'normal' not found.\n",
            "findfont: Font family 'normal' not found.\n",
            "findfont: Font family 'normal' not found.\n",
            "findfont: Font family 'normal' not found.\n",
            "findfont: Font family 'normal' not found.\n",
            "findfont: Font family 'normal' not found.\n",
            "findfont: Font family 'normal' not found.\n",
            "findfont: Font family 'normal' not found.\n",
            "findfont: Font family 'normal' not found.\n",
            "findfont: Font family 'normal' not found.\n",
            "findfont: Font family 'normal' not found.\n",
            "findfont: Font family 'normal' not found.\n",
            "findfont: Font family 'normal' not found.\n",
            "findfont: Font family 'normal' not found.\n",
            "findfont: Font family 'normal' not found.\n",
            "findfont: Font family 'normal' not found.\n",
            "findfont: Font family 'normal' not found.\n",
            "findfont: Font family 'normal' not found.\n",
            "findfont: Font family 'normal' not found.\n",
            "findfont: Font family 'normal' not found.\n",
            "findfont: Font family 'normal' not found.\n",
            "findfont: Font family 'normal' not found.\n",
            "findfont: Font family 'normal' not found.\n",
            "findfont: Font family 'normal' not found.\n",
            "findfont: Font family 'normal' not found.\n",
            "findfont: Font family 'normal' not found.\n",
            "findfont: Font family 'normal' not found.\n",
            "findfont: Font family 'normal' not found.\n",
            "findfont: Font family 'normal' not found.\n",
            "findfont: Font family 'normal' not found.\n",
            "findfont: Font family 'normal' not found.\n",
            "findfont: Font family 'normal' not found.\n",
            "findfont: Font family 'normal' not found.\n",
            "findfont: Font family 'normal' not found.\n",
            "findfont: Font family 'normal' not found.\n",
            "findfont: Font family 'normal' not found.\n",
            "findfont: Font family 'normal' not found.\n",
            "findfont: Font family 'normal' not found.\n",
            "findfont: Font family 'normal' not found.\n",
            "findfont: Font family 'normal' not found.\n",
            "findfont: Font family 'normal' not found.\n",
            "findfont: Font family 'normal' not found.\n",
            "findfont: Font family 'normal' not found.\n",
            "findfont: Font family 'normal' not found.\n",
            "findfont: Font family 'normal' not found.\n",
            "findfont: Font family 'normal' not found.\n",
            "findfont: Font family 'normal' not found.\n",
            "findfont: Font family 'normal' not found.\n",
            "findfont: Font family 'normal' not found.\n",
            "findfont: Font family 'normal' not found.\n",
            "findfont: Font family 'normal' not found.\n",
            "findfont: Font family 'normal' not found.\n",
            "findfont: Font family 'normal' not found.\n",
            "findfont: Font family 'normal' not found.\n",
            "findfont: Font family 'normal' not found.\n",
            "findfont: Font family 'normal' not found.\n",
            "findfont: Font family 'normal' not found.\n",
            "findfont: Font family 'normal' not found.\n",
            "findfont: Font family 'normal' not found.\n",
            "findfont: Font family 'normal' not found.\n",
            "findfont: Font family 'normal' not found.\n",
            "findfont: Font family 'normal' not found.\n",
            "findfont: Font family 'normal' not found.\n",
            "findfont: Font family 'normal' not found.\n",
            "findfont: Font family 'normal' not found.\n",
            "findfont: Font family 'normal' not found.\n",
            "findfont: Font family 'normal' not found.\n",
            "findfont: Font family 'normal' not found.\n",
            "findfont: Font family 'normal' not found.\n",
            "findfont: Font family 'normal' not found.\n",
            "findfont: Font family 'normal' not found.\n",
            "findfont: Font family 'normal' not found.\n",
            "findfont: Font family 'normal' not found.\n",
            "findfont: Font family 'normal' not found.\n",
            "findfont: Font family 'normal' not found.\n",
            "findfont: Font family 'normal' not found.\n",
            "findfont: Font family 'normal' not found.\n",
            "findfont: Font family 'normal' not found.\n",
            "findfont: Font family 'normal' not found.\n",
            "findfont: Font family 'normal' not found.\n",
            "findfont: Font family 'normal' not found.\n"
          ]
        },
        {
          "data": {
            "image/png": "[encoded data removed]",
            "text/plain": [
              "<Figure size 640x480 with 1 Axes>"
            ]
          },
          "metadata": {},
          "output_type": "display_data"
        }
      ],
      "source": [
        "import matplotlib.pyplot as plt\n",
        "import matplotlib\n",
        "font = {'family': 'normal', 'weight': 'bold', 'size': 17}\n",
        "matplotlib.rc('font', **font)\n",
        "\n",
        "fig, ax = plt.subplots()\n",
        "ax.plot([x.cpu() for x in max_val_accs_params], marker='o', markersize=20, linestyle='--', color='purple', linewidth=5)\n",
        "ax.set_title(\"Model Parameters\")\n",
        "ax.set_xticks([0, 1, 2, 3])\n",
        "ax.set_xticklabels(['360k', '420k', '550k', '800k'])\n",
        "ax.set_xlabel(\"Number of parameters\")\n",
        "ax.set_ylabel(\"Validation Accuracy\")\n",
        "plt.savefig(\"scaling_params.png\", bbox_inches=\"tight\")"
      ]
    },
    {
      "cell_type": "code",
      "execution_count": 40,
      "metadata": {},
      "outputs": [
        {
          "data": {
            "text/plain": [
              "[365565, 426515, 548415, 792215]"
            ]
          },
          "execution_count": 40,
          "metadata": {},
          "output_type": "execute_result"
        }
      ],
      "source": [
        "total_params"
      ]
    },
    {
      "cell_type": "code",
      "execution_count": null,
      "metadata": {},
      "outputs": [],
      "source": []
    }
  ],
  "metadata": {
    "accelerator": "GPU",
    "colab": {
      "gpuType": "T4",
      "provenance": []
    },
    "kernelspec": {
      "display_name": "Python 3.9.19 ('csc413')",
      "language": "python",
      "name": "python3"
    },
    "language_info": {
      "codemirror_mode": {
        "name": "ipython",
        "version": 3
      },
      "file_extension": ".py",
      "mimetype": "text/x-python",
      "name": "python",
      "nbconvert_exporter": "python",
      "pygments_lexer": "ipython3",
      "version": "3.9.19"
    },
    "vscode": {
      "interpreter": {
        "hash": "a723968775826f37d612d94d6f6f5440ae31ce63b09c6fe554e851268b9df70e"
      }
    }
  },
  "nbformat": 4,
  "nbformat_minor": 0
}
